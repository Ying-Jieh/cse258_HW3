{
  "nbformat": 4,
  "nbformat_minor": 0,
  "metadata": {
    "colab": {
      "provenance": []
    },
    "kernelspec": {
      "name": "python3",
      "display_name": "Python 3"
    },
    "language_info": {
      "name": "python"
    },
    "widgets": {
      "application/vnd.jupyter.widget-state+json": {
        "0de88db5b4bd453a9990106044bca067": {
          "model_module": "@jupyter-widgets/controls",
          "model_name": "HBoxModel",
          "model_module_version": "1.5.0",
          "state": {
            "_dom_classes": [],
            "_model_module": "@jupyter-widgets/controls",
            "_model_module_version": "1.5.0",
            "_model_name": "HBoxModel",
            "_view_count": null,
            "_view_module": "@jupyter-widgets/controls",
            "_view_module_version": "1.5.0",
            "_view_name": "HBoxView",
            "box_style": "",
            "children": [
              "IPY_MODEL_960ae2231dae495fb73fa8073a065ff2",
              "IPY_MODEL_57ea225c26f74a21a0b542ce68ed1b15",
              "IPY_MODEL_1658d73e457c4b678fe47c9fc2eca23f"
            ],
            "layout": "IPY_MODEL_3cdd45caf82b4098b59d4ac7f8572d09"
          }
        },
        "960ae2231dae495fb73fa8073a065ff2": {
          "model_module": "@jupyter-widgets/controls",
          "model_name": "HTMLModel",
          "model_module_version": "1.5.0",
          "state": {
            "_dom_classes": [],
            "_model_module": "@jupyter-widgets/controls",
            "_model_module_version": "1.5.0",
            "_model_name": "HTMLModel",
            "_view_count": null,
            "_view_module": "@jupyter-widgets/controls",
            "_view_module_version": "1.5.0",
            "_view_name": "HTMLView",
            "description": "",
            "description_tooltip": null,
            "layout": "IPY_MODEL_905fcfa3e1f741468eb961bafa3ec3b9",
            "placeholder": "​",
            "style": "IPY_MODEL_7abf002905e046e59c988dac12d3a6de",
            "value": "100%"
          }
        },
        "57ea225c26f74a21a0b542ce68ed1b15": {
          "model_module": "@jupyter-widgets/controls",
          "model_name": "FloatProgressModel",
          "model_module_version": "1.5.0",
          "state": {
            "_dom_classes": [],
            "_model_module": "@jupyter-widgets/controls",
            "_model_module_version": "1.5.0",
            "_model_name": "FloatProgressModel",
            "_view_count": null,
            "_view_module": "@jupyter-widgets/controls",
            "_view_module_version": "1.5.0",
            "_view_name": "ProgressView",
            "bar_style": "success",
            "description": "",
            "description_tooltip": null,
            "layout": "IPY_MODEL_4897933f7d04422d98320a2304e42c96",
            "max": 100,
            "min": 0,
            "orientation": "horizontal",
            "style": "IPY_MODEL_1c0c6545c2894df6aef3fd2a16c8f05e",
            "value": 100
          }
        },
        "1658d73e457c4b678fe47c9fc2eca23f": {
          "model_module": "@jupyter-widgets/controls",
          "model_name": "HTMLModel",
          "model_module_version": "1.5.0",
          "state": {
            "_dom_classes": [],
            "_model_module": "@jupyter-widgets/controls",
            "_model_module_version": "1.5.0",
            "_model_name": "HTMLModel",
            "_view_count": null,
            "_view_module": "@jupyter-widgets/controls",
            "_view_module_version": "1.5.0",
            "_view_name": "HTMLView",
            "description": "",
            "description_tooltip": null,
            "layout": "IPY_MODEL_aebfec1c087d4d368376ca5e1e9ea7d5",
            "placeholder": "​",
            "style": "IPY_MODEL_74014475ec824850b8c0e195a0b9b880",
            "value": " 100/100 [00:10&lt;00:00, 12.27it/s, train_auc=91.79%, skipped=3.90%]"
          }
        },
        "3cdd45caf82b4098b59d4ac7f8572d09": {
          "model_module": "@jupyter-widgets/base",
          "model_name": "LayoutModel",
          "model_module_version": "1.2.0",
          "state": {
            "_model_module": "@jupyter-widgets/base",
            "_model_module_version": "1.2.0",
            "_model_name": "LayoutModel",
            "_view_count": null,
            "_view_module": "@jupyter-widgets/base",
            "_view_module_version": "1.2.0",
            "_view_name": "LayoutView",
            "align_content": null,
            "align_items": null,
            "align_self": null,
            "border": null,
            "bottom": null,
            "display": null,
            "flex": null,
            "flex_flow": null,
            "grid_area": null,
            "grid_auto_columns": null,
            "grid_auto_flow": null,
            "grid_auto_rows": null,
            "grid_column": null,
            "grid_gap": null,
            "grid_row": null,
            "grid_template_areas": null,
            "grid_template_columns": null,
            "grid_template_rows": null,
            "height": null,
            "justify_content": null,
            "justify_items": null,
            "left": null,
            "margin": null,
            "max_height": null,
            "max_width": null,
            "min_height": null,
            "min_width": null,
            "object_fit": null,
            "object_position": null,
            "order": null,
            "overflow": null,
            "overflow_x": null,
            "overflow_y": null,
            "padding": null,
            "right": null,
            "top": null,
            "visibility": null,
            "width": null
          }
        },
        "905fcfa3e1f741468eb961bafa3ec3b9": {
          "model_module": "@jupyter-widgets/base",
          "model_name": "LayoutModel",
          "model_module_version": "1.2.0",
          "state": {
            "_model_module": "@jupyter-widgets/base",
            "_model_module_version": "1.2.0",
            "_model_name": "LayoutModel",
            "_view_count": null,
            "_view_module": "@jupyter-widgets/base",
            "_view_module_version": "1.2.0",
            "_view_name": "LayoutView",
            "align_content": null,
            "align_items": null,
            "align_self": null,
            "border": null,
            "bottom": null,
            "display": null,
            "flex": null,
            "flex_flow": null,
            "grid_area": null,
            "grid_auto_columns": null,
            "grid_auto_flow": null,
            "grid_auto_rows": null,
            "grid_column": null,
            "grid_gap": null,
            "grid_row": null,
            "grid_template_areas": null,
            "grid_template_columns": null,
            "grid_template_rows": null,
            "height": null,
            "justify_content": null,
            "justify_items": null,
            "left": null,
            "margin": null,
            "max_height": null,
            "max_width": null,
            "min_height": null,
            "min_width": null,
            "object_fit": null,
            "object_position": null,
            "order": null,
            "overflow": null,
            "overflow_x": null,
            "overflow_y": null,
            "padding": null,
            "right": null,
            "top": null,
            "visibility": null,
            "width": null
          }
        },
        "7abf002905e046e59c988dac12d3a6de": {
          "model_module": "@jupyter-widgets/controls",
          "model_name": "DescriptionStyleModel",
          "model_module_version": "1.5.0",
          "state": {
            "_model_module": "@jupyter-widgets/controls",
            "_model_module_version": "1.5.0",
            "_model_name": "DescriptionStyleModel",
            "_view_count": null,
            "_view_module": "@jupyter-widgets/base",
            "_view_module_version": "1.2.0",
            "_view_name": "StyleView",
            "description_width": ""
          }
        },
        "4897933f7d04422d98320a2304e42c96": {
          "model_module": "@jupyter-widgets/base",
          "model_name": "LayoutModel",
          "model_module_version": "1.2.0",
          "state": {
            "_model_module": "@jupyter-widgets/base",
            "_model_module_version": "1.2.0",
            "_model_name": "LayoutModel",
            "_view_count": null,
            "_view_module": "@jupyter-widgets/base",
            "_view_module_version": "1.2.0",
            "_view_name": "LayoutView",
            "align_content": null,
            "align_items": null,
            "align_self": null,
            "border": null,
            "bottom": null,
            "display": null,
            "flex": null,
            "flex_flow": null,
            "grid_area": null,
            "grid_auto_columns": null,
            "grid_auto_flow": null,
            "grid_auto_rows": null,
            "grid_column": null,
            "grid_gap": null,
            "grid_row": null,
            "grid_template_areas": null,
            "grid_template_columns": null,
            "grid_template_rows": null,
            "height": null,
            "justify_content": null,
            "justify_items": null,
            "left": null,
            "margin": null,
            "max_height": null,
            "max_width": null,
            "min_height": null,
            "min_width": null,
            "object_fit": null,
            "object_position": null,
            "order": null,
            "overflow": null,
            "overflow_x": null,
            "overflow_y": null,
            "padding": null,
            "right": null,
            "top": null,
            "visibility": null,
            "width": null
          }
        },
        "1c0c6545c2894df6aef3fd2a16c8f05e": {
          "model_module": "@jupyter-widgets/controls",
          "model_name": "ProgressStyleModel",
          "model_module_version": "1.5.0",
          "state": {
            "_model_module": "@jupyter-widgets/controls",
            "_model_module_version": "1.5.0",
            "_model_name": "ProgressStyleModel",
            "_view_count": null,
            "_view_module": "@jupyter-widgets/base",
            "_view_module_version": "1.2.0",
            "_view_name": "StyleView",
            "bar_color": null,
            "description_width": ""
          }
        },
        "aebfec1c087d4d368376ca5e1e9ea7d5": {
          "model_module": "@jupyter-widgets/base",
          "model_name": "LayoutModel",
          "model_module_version": "1.2.0",
          "state": {
            "_model_module": "@jupyter-widgets/base",
            "_model_module_version": "1.2.0",
            "_model_name": "LayoutModel",
            "_view_count": null,
            "_view_module": "@jupyter-widgets/base",
            "_view_module_version": "1.2.0",
            "_view_name": "LayoutView",
            "align_content": null,
            "align_items": null,
            "align_self": null,
            "border": null,
            "bottom": null,
            "display": null,
            "flex": null,
            "flex_flow": null,
            "grid_area": null,
            "grid_auto_columns": null,
            "grid_auto_flow": null,
            "grid_auto_rows": null,
            "grid_column": null,
            "grid_gap": null,
            "grid_row": null,
            "grid_template_areas": null,
            "grid_template_columns": null,
            "grid_template_rows": null,
            "height": null,
            "justify_content": null,
            "justify_items": null,
            "left": null,
            "margin": null,
            "max_height": null,
            "max_width": null,
            "min_height": null,
            "min_width": null,
            "object_fit": null,
            "object_position": null,
            "order": null,
            "overflow": null,
            "overflow_x": null,
            "overflow_y": null,
            "padding": null,
            "right": null,
            "top": null,
            "visibility": null,
            "width": null
          }
        },
        "74014475ec824850b8c0e195a0b9b880": {
          "model_module": "@jupyter-widgets/controls",
          "model_name": "DescriptionStyleModel",
          "model_module_version": "1.5.0",
          "state": {
            "_model_module": "@jupyter-widgets/controls",
            "_model_module_version": "1.5.0",
            "_model_name": "DescriptionStyleModel",
            "_view_count": null,
            "_view_module": "@jupyter-widgets/base",
            "_view_module_version": "1.2.0",
            "_view_name": "StyleView",
            "description_width": ""
          }
        }
      }
    }
  },
  "cells": [
    {
      "cell_type": "markdown",
      "source": [
        "# Predicting if the user would play the game and the play hours.\n",
        "\n",
        "There are two tasks:\n",
        "1. **Play Prediction**: Predict given a (user,game) pair from ‘pairs Played.csv’ whether the user would play the\n",
        "game (0 or 1). Accuracy will be measured in terms of the categorization accuracy (fraction of correct\n",
        "predictions). The test set has been constructed such that exactly 50% of the pairs correspond to played\n",
        "games and the other 50% do not.\n",
        "\n",
        "2. **Time played prediction**: Predict how long a person will play a game (transformed as log2\n",
        "(hours + 1), for\n",
        "those (user,game) pairs in ‘pairs Hours.csv’. Accuracy will be measured in terms of the mean-squared\n",
        "error (MSE).\n",
        "\n",
        "data: https://cseweb.ucsd.edu/classes/fa23/cse258-a/files/assignment1.tar.gz\n",
        "\n",
        "The data contains:\n",
        "- **train.json.gz** 175,000 instances to be used for training. This data should be used for both the ‘play prediction’\n",
        "and ‘time played prediction’ tasks. It is not necessary to use all observations for training, for example if\n",
        "doing so proves too computationally intensive.\n",
        "    - **userID** The ID of the user. This is a hashed user identifier from Steam.\n",
        "    - **gameID** The ID of the game. This is a hashed game identifier from Steam.\n",
        "    - **text** Text of the user’s review of the game.\n",
        "    - **date** Date when the review was entered.\n",
        "    - **hours** How many hours the user played the game.\n",
        "    - **hours transformed** log2(hours+1). *This transformed value is the one we are trying to predict.*\n",
        "\n",
        "- **pairs Played.csv** Pairs on which you are to predict whether a game was played. (This is for grading)\n",
        "\n",
        "- **pairs Hours.csv** Pairs (userIDs and gameIDs) on which you are to predict time played. (This is for grading)\n",
        "\n",
        "- **baselines.py** A simple baseline for each task, described below"
      ],
      "metadata": {
        "id": "qb4pxxT-qL67"
      }
    },
    {
      "cell_type": "code",
      "execution_count": 1,
      "metadata": {
        "id": "hInOYF4kP39a"
      },
      "outputs": [],
      "source": [
        "import gzip\n",
        "from collections import defaultdict\n",
        "import math\n",
        "import scipy.optimize\n",
        "from sklearn import svm\n",
        "import numpy\n",
        "import string\n",
        "import random\n",
        "from sklearn import linear_model"
      ]
    },
    {
      "cell_type": "code",
      "source": [
        "def readGz(path):\n",
        "    for l in gzip.open(path, 'rt'):\n",
        "        yield eval(l)"
      ],
      "metadata": {
        "id": "JSmDGHWMVwMc"
      },
      "execution_count": 2,
      "outputs": []
    },
    {
      "cell_type": "code",
      "source": [
        "def readJSON(path):\n",
        "    f = gzip.open(path, 'rt', encoding=\"utf-8\")\n",
        "    f.readline()\n",
        "    for l in f:\n",
        "        d = eval(l)\n",
        "        u = d['userID']\n",
        "        g = d['gameID']\n",
        "        yield u,g,d"
      ],
      "metadata": {
        "id": "MUh3FSj-VwKD"
      },
      "execution_count": 3,
      "outputs": []
    },
    {
      "cell_type": "code",
      "source": [
        "answers = {}"
      ],
      "metadata": {
        "id": "PYW5_Np2VwHi"
      },
      "execution_count": 4,
      "outputs": []
    },
    {
      "cell_type": "code",
      "source": [
        "# Some data structures that will be useful"
      ],
      "metadata": {
        "id": "Ei1pUToeVwE6"
      },
      "execution_count": 5,
      "outputs": []
    },
    {
      "cell_type": "code",
      "source": [
        "!wget https://cseweb.ucsd.edu/classes/fa23/cse258-a/files/assignment1.tar.gz"
      ],
      "metadata": {
        "colab": {
          "base_uri": "https://localhost:8080/"
        },
        "id": "9p_Z-jvJtTLL",
        "outputId": "6d6c138a-4515-4e0e-dd3f-f11a15fedc9d"
      },
      "execution_count": 13,
      "outputs": [
        {
          "output_type": "stream",
          "name": "stdout",
          "text": [
            "--2023-12-20 02:11:31--  https://cseweb.ucsd.edu/classes/fa23/cse258-a/files/assignment1.tar.gz\n",
            "Resolving cseweb.ucsd.edu (cseweb.ucsd.edu)... 132.239.8.30\n",
            "Connecting to cseweb.ucsd.edu (cseweb.ucsd.edu)|132.239.8.30|:443... connected.\n",
            "HTTP request sent, awaiting response... 200 OK\n",
            "Length: 36046793 (34M) [application/x-gzip]\n",
            "Saving to: ‘assignment1.tar.gz’\n",
            "\n",
            "assignment1.tar.gz  100%[===================>]  34.38M   152MB/s    in 0.2s    \n",
            "\n",
            "2023-12-20 02:11:31 (152 MB/s) - ‘assignment1.tar.gz’ saved [36046793/36046793]\n",
            "\n"
          ]
        }
      ]
    },
    {
      "cell_type": "code",
      "source": [
        "# run this cell to extract tar.gz files\n",
        "!tar -xzvf \"/content/assignment1.tar.gz\" -C \"/content/\""
      ],
      "metadata": {
        "colab": {
          "base_uri": "https://localhost:8080/"
        },
        "id": "1SkdKmeP_hLf",
        "outputId": "b409ab55-70a9-4527-85be-4800435d4616"
      },
      "execution_count": 15,
      "outputs": [
        {
          "output_type": "stream",
          "name": "stdout",
          "text": [
            "assignment1/\n",
            "assignment1/baselines.py\n",
            "assignment1/train.json.gz\n",
            "assignment1/pairs_Played.csv\n",
            "assignment1/pairs_Hours.csv\n"
          ]
        }
      ]
    },
    {
      "cell_type": "code",
      "source": [
        "# Read the data into a list\n",
        "allHours = []\n",
        "for l in readJSON(\"assignment1/train.json.gz\"):\n",
        "    allHours.append(l)"
      ],
      "metadata": {
        "id": "UstfF9PqVwCm"
      },
      "execution_count": 16,
      "outputs": []
    },
    {
      "cell_type": "code",
      "source": [
        "len(allHours), allHours[0]"
      ],
      "metadata": {
        "colab": {
          "base_uri": "https://localhost:8080/"
        },
        "id": "CsgXyZKWkD6D",
        "outputId": "3bc16c51-6376-4510-c3c2-b339d77eafd2"
      },
      "execution_count": 17,
      "outputs": [
        {
          "output_type": "execute_result",
          "data": {
            "text/plain": [
              "(174999,\n",
              " ('u70666506',\n",
              "  'g49368897',\n",
              "  {'userID': 'u70666506',\n",
              "   'early_access': False,\n",
              "   'hours': 63.5,\n",
              "   'hours_transformed': 6.011227255423254,\n",
              "   'found_funny': 1,\n",
              "   'text': 'If you want to sit in queue for 10-20min and have 140 ping then this game is perfect for you :)',\n",
              "   'gameID': 'g49368897',\n",
              "   'user_id': '76561198030408772',\n",
              "   'date': '2017-05-20'}))"
            ]
          },
          "metadata": {},
          "execution_count": 17
        }
      ]
    },
    {
      "cell_type": "markdown",
      "source": [
        "## Task 1. Play Prediction"
      ],
      "metadata": {
        "id": "QRsWxYCt2btr"
      }
    },
    {
      "cell_type": "markdown",
      "source": [
        "Since we don’t have access to the test labels, we’ll need to simulate validation/test sets of our own.\n",
        "So, let’s split the training data (‘train.json.gz’) as follows:\n",
        "1. Reviews 1-165,000 for training\n",
        "2. Reviews 165,001-175,000 for validation"
      ],
      "metadata": {
        "id": "8oti2h3wxIOZ"
      }
    },
    {
      "cell_type": "code",
      "source": [
        "hoursTrain = allHours[:165000]\n",
        "hoursValid = allHours[165000:]"
      ],
      "metadata": {
        "id": "3PPqkXl6031p"
      },
      "execution_count": 18,
      "outputs": []
    },
    {
      "cell_type": "code",
      "source": [
        "# From baseline code\n",
        "# This baseline just returns True if the item in question is ‘popular,’ using a threshold of\n",
        "# the 50th percentile of popularity (totalPlayed/2).\n",
        "gameCount = defaultdict(int)\n",
        "totalPlayed = 0 # The number of play times of whole games\n",
        "\n",
        "for u,g,_ in hoursTrain:\n",
        "    gameCount[g] += 1\n",
        "    totalPlayed += 1\n",
        "\n",
        "mostPopular = [(gameCount[x], x) for x in gameCount]\n",
        "mostPopular.sort() # Sort the games according to the number of times they have been played\n",
        "mostPopular.reverse()\n",
        "\n",
        "return1 = set()\n",
        "count = 0\n",
        "for ic, i in mostPopular:\n",
        "    count += ic\n",
        "    return1.add(i)\n",
        "    if count > totalPlayed/2: break"
      ],
      "metadata": {
        "id": "7KYIHBfzxdjy"
      },
      "execution_count": 19,
      "outputs": []
    },
    {
      "cell_type": "code",
      "source": [
        "# Helpful data structures\n",
        "hoursPerUser = defaultdict(list)\n",
        "hoursPerItem = defaultdict(list)\n",
        "for u,g,d in hoursTrain:\n",
        "    r = d['hours_transformed']\n",
        "    hoursPerUser[u].append((g,r))\n",
        "    hoursPerItem[g].append((u,r))"
      ],
      "metadata": {
        "id": "SF_usUivcyI6"
      },
      "execution_count": 20,
      "outputs": []
    },
    {
      "cell_type": "code",
      "source": [
        "# Take a look at them\n",
        "# Games and hours the user played\n",
        "list(hoursPerUser.keys())[0], list(hoursPerUser.values())[0]"
      ],
      "metadata": {
        "colab": {
          "base_uri": "https://localhost:8080/"
        },
        "id": "CKrikXz45lnW",
        "outputId": "a88ece6c-6807-45e2-9b1f-69fcbad63b47"
      },
      "execution_count": 21,
      "outputs": [
        {
          "output_type": "execute_result",
          "data": {
            "text/plain": [
              "('u70666506',\n",
              " [('g49368897', 6.011227255423254),\n",
              "  ('g48657523', 3.7224660244710908),\n",
              "  ('g03488908', 4.733354340613827),\n",
              "  ('g29657740', 3.2172307162206693),\n",
              "  ('g02273341', 7.936048963676615),\n",
              "  ('g75228197', 7.424586226251101),\n",
              "  ('g78278951', 6.048759311919856),\n",
              "  ('g89200271', 6.617651119427331),\n",
              "  ('g29741733', 1.84799690655495),\n",
              "  ('g23175113', 5.307428525192248),\n",
              "  ('g15360200', 2.765534746362977),\n",
              "  ('g42729032', 6.4561490346479955),\n",
              "  ('g49157768', 2.9818526532897405)])"
            ]
          },
          "metadata": {},
          "execution_count": 21
        }
      ]
    },
    {
      "cell_type": "code",
      "source": [
        "# Users and hours the game were played\n",
        "list(hoursPerItem.keys())[0], list(hoursPerItem.values())[0]"
      ],
      "metadata": {
        "colab": {
          "base_uri": "https://localhost:8080/"
        },
        "id": "kCCv52bo6G2z",
        "outputId": "f5a4863c-4815-4b79-f51d-612fe5ae9918"
      },
      "execution_count": 22,
      "outputs": [
        {
          "output_type": "execute_result",
          "data": {
            "text/plain": [
              "('g49368897',\n",
              " [('u70666506', 6.011227255423254),\n",
              "  ('u70647035', 5.58796498888268),\n",
              "  ('u73312807', 2.035623909730721),\n",
              "  ('u02922169', 0.37851162325372983),\n",
              "  ('u20470173', 1.4329594072761063),\n",
              "  ('u38296376', 1.070389327891398),\n",
              "  ('u90606033', 3.263034405833794),\n",
              "  ('u48738997', 4.722466024471091),\n",
              "  ('u69205212', 6.997744026059632),\n",
              "  ('u51944505', 3.3074285251922473),\n",
              "  ('u36112555', 2.263034405833794),\n",
              "  ('u58254457', 0.765534746362977),\n",
              "  ('u28301519', 0.2630344058337938),\n",
              "  ('u40167309', 6.2890967024199895),\n",
              "  ('u92778705', 4.035623909730721),\n",
              "  ('u24964143', 5.371558862611963),\n",
              "  ('u35200970', 8.909893083770042),\n",
              "  ('u93364692', 6.407692648665677),\n",
              "  ('u41303810', 3.867896463992655),\n",
              "  ('u19119107', 1.0),\n",
              "  ('u75222565', 1.5360529002402097),\n",
              "  ('u49621496', 2.035623909730721),\n",
              "  ('u96883621', 0.2630344058337938),\n",
              "  ('u17759890', 6.330916878114617),\n",
              "  ('u48087366', 6.632268215499513),\n",
              "  ('u75656042', 3.548436624696042),\n",
              "  ('u65793926', 1.3785116232537298),\n",
              "  ('u31096754', 8.183883459032232),\n",
              "  ('u77204704', 2.1043366598147357),\n",
              "  ('u79483995', 8.439207554941284),\n",
              "  ('u67143531', 1.0),\n",
              "  ('u08730023', 0.925999418556223),\n",
              "  ('u91591972', 4.578938713093386),\n",
              "  ('u64671579', 1.4329594072761063),\n",
              "  ('u89900580', 6.626439136697315),\n",
              "  ('u45832548', 2.807354922057604),\n",
              "  ('u17859318', 8.64745842645492),\n",
              "  ('u20805146', 8.853621455748828),\n",
              "  ('u15948641', 0.84799690655495),\n",
              "  ('u73902482', 3.700439718141092),\n",
              "  ('u07489511', 2.765534746362977),\n",
              "  ('u52693207', 0.13750352374993502),\n",
              "  ('u82943357', 1.1375035237499351),\n",
              "  ('u51667020', 4.572889668420581),\n",
              "  ('u82039751', 4.602884408718419),\n",
              "  ('u34032139', 6.682292371430833),\n",
              "  ('u02129594', 0.37851162325372983),\n",
              "  ('u18042527', 3.4982508675278257),\n",
              "  ('u38871576', 2.584962500721156),\n",
              "  ('u11874308', 0.13750352374993502),\n",
              "  ('u13597600', 3.572889668420581),\n",
              "  ('u94593536', 5.3750394313469245),\n",
              "  ('u27481441', 4.892391025913404),\n",
              "  ('u97353652', 0.6780719051126377),\n",
              "  ('u22471113', 6.531381460516312),\n",
              "  ('u61856145', 3.4594316186372973),\n",
              "  ('u17950890', 3.7224660244710908),\n",
              "  ('u55442554', 1.722466024471091),\n",
              "  ('u08341594', 3.8379432418910273),\n",
              "  ('u14595674', 3.263034405833794),\n",
              "  ('u37510100', 0.37851162325372983),\n",
              "  ('u21516481', 1.632268215499513),\n",
              "  ('u49974537', 5.832890014164741),\n",
              "  ('u77899869', 2.7224660244710908),\n",
              "  ('u24181782', 1.4854268271702415),\n",
              "  ('u64787931', 6.938991438775543),\n",
              "  ('u98329890', 7.360188670062712),\n",
              "  ('u25249185', 0.5849625007211562),\n",
              "  ('u52843263', 2.4594316186372973),\n",
              "  ('u78081211', 0.2630344058337938),\n",
              "  ('u12695777', 3.8875252707415875),\n",
              "  ('u55130535', 3.5109619192773796),\n",
              "  ('u09331754', 6.203592714207708),\n",
              "  ('u57719786', 1.263034405833794),\n",
              "  ('u51018128', 0.13750352374993502),\n",
              "  ('u33124220', 3.867896463992655),\n",
              "  ('u61150089', 1.584962500721156),\n",
              "  ('u05068078', 2.9818526532897405),\n",
              "  ('u79765911', 0.13750352374993502),\n",
              "  ('u15552995', 0.37851162325372983),\n",
              "  ('u09392734', 4.419538891513785),\n",
              "  ('u49423423', 0.48542682717024166),\n",
              "  ('u48744666', 6.298291730620124),\n",
              "  ('u80585251', 0.37851162325372983),\n",
              "  ('u01564193', 3.2479275134435857),\n",
              "  ('u26246234', 0.37851162325372983),\n",
              "  ('u29401175', 2.608809242675524),\n",
              "  ('u92179319', 4.392317422778761),\n",
              "  ('u81096358', 5.954196310386875),\n",
              "  ('u46373285', 5.970393537914677),\n",
              "  ('u79718318', 2.035623909730721),\n",
              "  ('u01463165', 4.722466024471091),\n",
              "  ('u83785915', 0.13750352374993502),\n",
              "  ('u90742229', 3.655351828612554),\n",
              "  ('u49763987', 3.678071905112638),\n",
              "  ('u92729375', 9.277054876148728),\n",
              "  ('u56796374', 5.921245888585589),\n",
              "  ('u94977887', 4.857980995127572),\n",
              "  ('u18838894', 1.263034405833794),\n",
              "  ('u37043522', 4.791814071161826),\n",
              "  ('u40361581', 1.0),\n",
              "  ('u23610002', 0.2630344058337938),\n",
              "  ('u22421182', 9.51056638944875),\n",
              "  ('u93715150', 4.392317422778761),\n",
              "  ('u68579841', 0.48542682717024166),\n",
              "  ('u69256218', 2.8875252707415875),\n",
              "  ('u86864940', 7.400879436282184),\n",
              "  ('u10247639', 2.070389327891398),\n",
              "  ('u96578147', 5.776103988073165),\n",
              "  ('u84062881', 1.3785116232537298),\n",
              "  ('u83192523', 1.263034405833794),\n",
              "  ('u11949707', 2.070389327891398),\n",
              "  ('u72927964', 3.655351828612554),\n",
              "  ('u05315350', 5.133399125417198),\n",
              "  ('u17057936', 5.008988783227255),\n",
              "  ('u28701909', 7.2630344058337934),\n",
              "  ('u30064155', 6.355791546753647),\n",
              "  ('u44521634', 0.5849625007211562),\n",
              "  ('u96104653', 6.451211111832329),\n",
              "  ('u19431743', 7.135452784185173),\n",
              "  ('u98503287', 4.292781749227846),\n",
              "  ('u37959553', 0.84799690655495),\n",
              "  ('u15684380', 8.787249608467912),\n",
              "  ('u79281996', 0.84799690655495),\n",
              "  ('u44872394', 10.369161091349168),\n",
              "  ('u46299905', 3.37851162325373),\n",
              "  ('u08577088', 0.6780719051126377),\n",
              "  ('u98303981', 0.2630344058337938),\n",
              "  ('u17990913', 1.070389327891398),\n",
              "  ('u03804735', 4.329123596291566),\n",
              "  ('u00198127', 6.795715006501729),\n",
              "  ('u02211193', 1.1375035237499351),\n",
              "  ('u24606346', 4.37851162325373),\n",
              "  ('u50474220', 0.37851162325372983),\n",
              "  ('u93333367', 0.48542682717024166),\n",
              "  ('u55105731', 1.2016338611696504),\n",
              "  ('u68950674', 0.13750352374993502),\n",
              "  ('u72204752', 4.958842675243241),\n",
              "  ('u63229947', 8.68018368159249),\n",
              "  ('u71289672', 3.733354340613827),\n",
              "  ('u41476260', 2.2016338611696504),\n",
              "  ('u65947241', 1.4329594072761063),\n",
              "  ('u70365105', 4.7114949066500875),\n",
              "  ('u44081559', 3.925999418556223),\n",
              "  ('u50134414', 0.2630344058337938),\n",
              "  ('u60760572', 3.8278190246173196),\n",
              "  ('u60146455', 0.925999418556223),\n",
              "  ('u71532684', 0.37851162325372983),\n",
              "  ('u73708306', 2.070389327891398),\n",
              "  ('u15803043', 8.695576306222053),\n",
              "  ('u92338311', 2.5109619192773796),\n",
              "  ('u86832943', 5.92837032301897),\n",
              "  ('u44164844', 2.169925001442312),\n",
              "  ('u16373585', 5.77082904603249),\n",
              "  ('u77827699', 8.40343816300828),\n",
              "  ('u36368445', 1.3219280948873624),\n",
              "  ('u29033935', 4.536052900240209),\n",
              "  ('u47180106', 2.2016338611696504),\n",
              "  ('u41690439', 0.13750352374993502),\n",
              "  ('u65694138', 3.944858445807539)])"
            ]
          },
          "metadata": {},
          "execution_count": 22
        }
      ]
    },
    {
      "cell_type": "markdown",
      "source": [
        "### Question 1\n",
        "\n",
        "Although we have built a validation set, it only consists of positive samples. For this task we also need\n",
        "examples of user/item pairs that weren’t played. For each entry (user,game) in the validation set, sample\n",
        "a negative entry by randomly choosing a game that user hasn’t played. Evaluate the performance\n",
        "(accuracy) of the baseline model on the validation set you have built (1 mark)."
      ],
      "metadata": {
        "id": "gtKQW4eqV_Qq"
      }
    },
    {
      "cell_type": "code",
      "source": [
        "# Generate a negative set\n",
        "userSet = set()\n",
        "gameSet = set()\n",
        "playedSet = set()\n",
        "\n",
        "# Get the exist (user, game) pairs\n",
        "for u,g,d in allHours:\n",
        "    userSet.add(u)\n",
        "    gameSet.add(g)\n",
        "    playedSet.add((u,g))\n",
        "\n",
        "lGameSet = list(gameSet)\n",
        "\n",
        "notPlayed = set()\n",
        "for u,g,d in hoursValid:\n",
        "    g = random.choice(lGameSet)\n",
        "    # Get the (user, game) pair that have not been seen\n",
        "    while (u,g) in playedSet or (u,g) in notPlayed:\n",
        "        g = random.choice(lGameSet)\n",
        "    notPlayed.add((u,g))\n",
        "\n",
        "playedValid = set()\n",
        "for u,g,r in hoursValid:\n",
        "    playedValid.add((u,g))"
      ],
      "metadata": {
        "id": "p7mLs0QEYzPb"
      },
      "execution_count": 23,
      "outputs": []
    },
    {
      "cell_type": "code",
      "source": [
        "# Evaluate baseline strategy on the validation set\n",
        "correct = 0\n",
        "for (label,sample) in [(1, playedValid), (0, notPlayed)]:\n",
        "    for (u,g) in sample:\n",
        "        pred = 0\n",
        "        if g in return1:\n",
        "            pred = 1\n",
        "        if pred == label:\n",
        "            correct += 1\n",
        "\n",
        "acc = correct / (len(playedValid) + len(notPlayed))\n",
        "print(f\"Accuracy: {acc}\")"
      ],
      "metadata": {
        "colab": {
          "base_uri": "https://localhost:8080/"
        },
        "id": "W5XJ_4_3Y5Vw",
        "outputId": "4fab3763-e7f2-49c6-98f1-a92ca232e90b"
      },
      "execution_count": 25,
      "outputs": [
        {
          "output_type": "stream",
          "name": "stdout",
          "text": [
            "Accuracy: 0.6810681068106811\n"
          ]
        }
      ]
    },
    {
      "cell_type": "markdown",
      "source": [
        "### Question 2\n",
        "\n",
        "The existing ‘played prediction’ baseline just returns True if the item in question is ‘popular,’ using a\n",
        "threshold of the 50th percentile of popularity (totalPlayed/2). Assuming that the ‘non-played’ test\n",
        "examples are a random sample of user-game pairs, this threshold may not be the best one. See if you\n",
        "can find a better threshold and report its performance on your validation set (1 mark)."
      ],
      "metadata": {
        "id": "EfInf2-wWFU6"
      }
    },
    {
      "cell_type": "code",
      "source": [
        "# Set the threshold to be totalPlayed * 0.75\n",
        "return1 = set()\n",
        "count = 0\n",
        "for ic, i in mostPopular:\n",
        "    count += ic\n",
        "    return1.add(i)\n",
        "    if count > totalPlayed * 0.75: break"
      ],
      "metadata": {
        "id": "EWAPAqTBWKpy"
      },
      "execution_count": 27,
      "outputs": []
    },
    {
      "cell_type": "code",
      "source": [
        "# Evaluate imporved strategy\n",
        "correct = 0\n",
        "for (label,sample) in [(1, playedValid), (0, notPlayed)]:\n",
        "    for (u,b) in sample:\n",
        "        pred = 0\n",
        "        if b in return1:\n",
        "            pred = 1\n",
        "        if pred == label:\n",
        "            correct += 1"
      ],
      "metadata": {
        "id": "4btAOj4AcIF2"
      },
      "execution_count": 28,
      "outputs": []
    },
    {
      "cell_type": "code",
      "source": [
        "acc2 = correct / (len(playedValid) + len(notPlayed))\n",
        "print(f\"Accuracy: {acc2}\")"
      ],
      "metadata": {
        "colab": {
          "base_uri": "https://localhost:8080/"
        },
        "id": "FBf1z24vcQUt",
        "outputId": "da19d808-5e0b-4d9e-f82c-58fba8d2238b"
      },
      "execution_count": 29,
      "outputs": [
        {
          "output_type": "stream",
          "name": "stdout",
          "text": [
            "Accuracy: 0.6923192319231923\n"
          ]
        }
      ]
    },
    {
      "cell_type": "markdown",
      "source": [
        "### Question 3\n",
        "\n",
        "A stronger baseline than the one provided might make use of the Jaccard similarity (or another similarity\n",
        "metric) Given a pair (u, g) in the validation set, consider all training items g'\n",
        "that user u has played.\n",
        "For each, compute the Jaccard similarity between g and g'\n",
        ", i.e., users (in the training set) who have\n",
        "played g and users who have played g'\n",
        ". Predict as ‘played’ if the maximum of these Jaccard similarities\n",
        "exceeds a threshold (you may choose the threshold that works best). Report the performance on your\n",
        "validation set (1 mark)."
      ],
      "metadata": {
        "id": "-RxPgTogWPdK"
      }
    },
    {
      "cell_type": "code",
      "source": [
        "def Jaccard(s1, s2):\n",
        "    numer = len(s1.intersection(s2))\n",
        "    denom = len(s1.union(s2))\n",
        "    if denom == 0:\n",
        "        return 0\n",
        "    return numer / denom"
      ],
      "metadata": {
        "id": "sANh1d7pJufk"
      },
      "execution_count": 30,
      "outputs": []
    },
    {
      "cell_type": "code",
      "source": [
        "# Slow implementation, could easily be improved following the code from Lecture 7\n",
        "correct = 0\n",
        "p0, p1 = 0, 0\n",
        "\n",
        "# Get (user, game) pairs from validation set. 1, 0 are labels means played or not\n",
        "for (label, sample) in [(1, playedValid), (0, notPlayed)]:\n",
        "    for (u, g) in sample:\n",
        "        maxSim = 0\n",
        "        users = set(hoursPerItem[g]) # Get the users who played g\n",
        "        for g2,_ in hoursPerUser[u]: # Get the games that played by user u\n",
        "            sim = Jaccard(users, set(hoursPerItem[g2])) # Get the similarity betweem two games g and g2\n",
        "            if sim > maxSim:\n",
        "                maxSim = sim\n",
        "        pred = 0\n",
        "        # If there is a game that user u played before is similar with game g, we predict user u would play it\n",
        "        if maxSim > 0.025:\n",
        "            pred = 1\n",
        "            p1 += 1\n",
        "        else:\n",
        "            p0 += 1\n",
        "        if pred == label:\n",
        "            correct += 1"
      ],
      "metadata": {
        "id": "RFNwr9EfcnA6"
      },
      "execution_count": 32,
      "outputs": []
    },
    {
      "cell_type": "code",
      "source": [
        "acc3 = correct / (len(playedValid) + len(notPlayed))\n",
        "print(f\"Accuracy: {acc3}\")"
      ],
      "metadata": {
        "colab": {
          "base_uri": "https://localhost:8080/"
        },
        "id": "NRGVHetQdz3m",
        "outputId": "30b19c43-2788-4a26-a5d7-04d7b6d7b21c"
      },
      "execution_count": 33,
      "outputs": [
        {
          "output_type": "stream",
          "name": "stdout",
          "text": [
            "Accuracy: 0.5003500350035004\n"
          ]
        }
      ]
    },
    {
      "cell_type": "markdown",
      "source": [
        "### Question 4\n",
        "\n",
        "\n",
        "Improve the above predictor by incorporating both a Jaccard-based threshold and a popularity based\n",
        "threshold. Report the performance on your validation set."
      ],
      "metadata": {
        "id": "B5Znm9DG5BT-"
      }
    },
    {
      "cell_type": "code",
      "source": [
        "# Similarity and popularity\n",
        "correct = 0\n",
        "p0, p1 = 0,0\n",
        "for (label,sample) in [(1, playedValid), (0, notPlayed)]:\n",
        "    for (u,g) in sample:\n",
        "        maxSim = 0\n",
        "        users = set(hoursPerItem[g])\n",
        "        for g2,_ in hoursPerUser[u]:\n",
        "            sim = Jaccard(users,set(hoursPerItem[g2]))\n",
        "            if sim > maxSim:\n",
        "                maxSim = sim\n",
        "        pred = 0\n",
        "        if maxSim > 0.025 or len(hoursPerItem[g]) > 60:\n",
        "            pred = 1\n",
        "            p1 += 1\n",
        "        else:\n",
        "            p0 += 1\n",
        "        if pred == label:\n",
        "            correct += 1"
      ],
      "metadata": {
        "id": "XUhSQF66ZV4U"
      },
      "execution_count": 37,
      "outputs": []
    },
    {
      "cell_type": "code",
      "source": [
        "acc4 = correct / (len(playedValid) + len(notPlayed))\n",
        "print(f\"Accuracy: {acc4}\")"
      ],
      "metadata": {
        "id": "4mZa-0Q1eg4P",
        "colab": {
          "base_uri": "https://localhost:8080/"
        },
        "outputId": "687433a9-bb04-46b5-e739-1ed1f842930e"
      },
      "execution_count": 35,
      "outputs": [
        {
          "output_type": "stream",
          "name": "stdout",
          "text": [
            "Accuracy: 0.7018201820182018\n"
          ]
        }
      ]
    },
    {
      "cell_type": "markdown",
      "source": [
        "### Assignment 1. Use Bayesian Personalized Ranking (Implicit)\n",
        "\n",
        "Implicit BPR: https://benfred.github.io/implicit/api/models/cpu/bpr.html\n",
        "\n",
        "Example code from lecture: https://cseweb.ucsd.edu/~jmcauley/pml/code/chap5.html"
      ],
      "metadata": {
        "id": "vG8jW73wHaLU"
      }
    },
    {
      "cell_type": "code",
      "source": [
        "!pip install implicit\n",
        "from implicit import bpr"
      ],
      "metadata": {
        "colab": {
          "base_uri": "https://localhost:8080/"
        },
        "id": "56KHdJ1yHcqw",
        "outputId": "c73e8e84-5315-4ba3-fc20-ca47b7bb059d"
      },
      "execution_count": 52,
      "outputs": [
        {
          "output_type": "stream",
          "name": "stdout",
          "text": [
            "Collecting implicit\n",
            "  Downloading implicit-0.7.2-cp310-cp310-manylinux2014_x86_64.whl (8.9 MB)\n",
            "\u001b[2K     \u001b[90m━━━━━━━━━━━━━━━━━━━━━━━━━━━━━━━━━━━━━━━━\u001b[0m \u001b[32m8.9/8.9 MB\u001b[0m \u001b[31m19.1 MB/s\u001b[0m eta \u001b[36m0:00:00\u001b[0m\n",
            "\u001b[?25hRequirement already satisfied: numpy>=1.17.0 in /usr/local/lib/python3.10/dist-packages (from implicit) (1.23.5)\n",
            "Requirement already satisfied: scipy>=0.16 in /usr/local/lib/python3.10/dist-packages (from implicit) (1.11.4)\n",
            "Requirement already satisfied: tqdm>=4.27 in /usr/local/lib/python3.10/dist-packages (from implicit) (4.66.1)\n",
            "Requirement already satisfied: threadpoolctl in /usr/local/lib/python3.10/dist-packages (from implicit) (3.2.0)\n",
            "Installing collected packages: implicit\n",
            "Successfully installed implicit-0.7.2\n"
          ]
        }
      ]
    },
    {
      "cell_type": "code",
      "source": [
        "# Give user and game ids for bpr model\n",
        "userIDs, gameIDs = {}, {}\n",
        "\n",
        "for d in hoursTrain:\n",
        "  u, g = d[0], d[1]\n",
        "  if not u in userIDs: userIDs[u] = len(userIDs)\n",
        "  if not g in gameIDs: gameIDs[g] = len(gameIDs)\n",
        "\n",
        "nUsers, nGames = len(userIDs), len(gameIDs)\n",
        "nUsers, nGames"
      ],
      "metadata": {
        "colab": {
          "base_uri": "https://localhost:8080/"
        },
        "id": "FimTYuywHuty",
        "outputId": "4ea6ae64-b75a-4b18-b6dc-a4040d48fe6e"
      },
      "execution_count": 56,
      "outputs": [
        {
          "output_type": "execute_result",
          "data": {
            "text/plain": [
              "(6710, 2437)"
            ]
          },
          "metadata": {},
          "execution_count": 56
        }
      ]
    },
    {
      "cell_type": "code",
      "source": [
        "# get game id form gameIDs\n",
        "games = defaultdict(str)\n",
        "for g, id in gameIDs.items():\n",
        "  games[id] = g"
      ],
      "metadata": {
        "id": "HEbOUAaCH1vJ"
      },
      "execution_count": 57,
      "outputs": []
    },
    {
      "cell_type": "code",
      "source": [
        "# Convert dataset to sparse matrix. Only storing positive feedback instances (i.e., played game).\n",
        "Xui = scipy.sparse.lil_matrix((nUsers, nGames))\n",
        "for d in hoursTrain:\n",
        "  Xui[userIDs[d[0]], gameIDs[d[1]]] = 1\n",
        "\n",
        "Xui_csr = scipy.sparse.csr_matrix(Xui)"
      ],
      "metadata": {
        "id": "j4BVoWs6H-qc"
      },
      "execution_count": 58,
      "outputs": []
    },
    {
      "cell_type": "code",
      "source": [
        "# Bayesian Personalized Ranking model with 5 latent factors\n",
        "model = bpr.BayesianPersonalizedRanking(factors=100)"
      ],
      "metadata": {
        "id": "GqI0J-HBItRs"
      },
      "execution_count": 118,
      "outputs": []
    },
    {
      "cell_type": "code",
      "source": [
        "# Fit the model\n",
        "model.fit(Xui_csr)"
      ],
      "metadata": {
        "colab": {
          "base_uri": "https://localhost:8080/",
          "height": 49,
          "referenced_widgets": [
            "0de88db5b4bd453a9990106044bca067",
            "960ae2231dae495fb73fa8073a065ff2",
            "57ea225c26f74a21a0b542ce68ed1b15",
            "1658d73e457c4b678fe47c9fc2eca23f",
            "3cdd45caf82b4098b59d4ac7f8572d09",
            "905fcfa3e1f741468eb961bafa3ec3b9",
            "7abf002905e046e59c988dac12d3a6de",
            "4897933f7d04422d98320a2304e42c96",
            "1c0c6545c2894df6aef3fd2a16c8f05e",
            "aebfec1c087d4d368376ca5e1e9ea7d5",
            "74014475ec824850b8c0e195a0b9b880"
          ]
        },
        "id": "7Gmj7aRCIw-T",
        "outputId": "33c0082a-954f-459c-d4ab-c4803a6bd54b"
      },
      "execution_count": 119,
      "outputs": [
        {
          "output_type": "display_data",
          "data": {
            "text/plain": [
              "  0%|          | 0/100 [00:00<?, ?it/s]"
            ],
            "application/vnd.jupyter.widget-view+json": {
              "version_major": 2,
              "version_minor": 0,
              "model_id": "0de88db5b4bd453a9990106044bca067"
            }
          },
          "metadata": {}
        }
      ]
    },
    {
      "cell_type": "code",
      "source": [
        "# Get N recommendations for a particular user (the first one)\n",
        "recommended = model.recommend(0, Xui_csr[0], N=10) # Return games' id and scores\n",
        "recommended"
      ],
      "metadata": {
        "colab": {
          "base_uri": "https://localhost:8080/"
        },
        "id": "pnpi8HWjJh9s",
        "outputId": "ae1603bf-35bf-460b-fdcd-ea6df80ff89f"
      },
      "execution_count": 117,
      "outputs": [
        {
          "output_type": "execute_result",
          "data": {
            "text/plain": [
              "(array([ 666, 1965,  272, 1078,  686,  252,  731,  580, 1140, 1524],\n",
              "       dtype=int32),\n",
              " array([1.5485433, 1.5159506, 1.4521528, 1.4054072, 1.3455342, 1.3383043,\n",
              "        1.32     , 1.3181386, 1.3127204, 1.2926066], dtype=float32))"
            ]
          },
          "metadata": {},
          "execution_count": 117
        }
      ]
    },
    {
      "cell_type": "code",
      "source": [
        "import numpy as np\n",
        "np.set_printoptions(suppress=True)"
      ],
      "metadata": {
        "id": "tVk4pJXmUlNI"
      },
      "execution_count": 79,
      "outputs": []
    },
    {
      "cell_type": "code",
      "source": [
        "correct = 0\n",
        "for (label, sample) in [(1, playedValid), (0, notPlayed)]:\n",
        "    for (u, g) in sample:\n",
        "        pred = 0\n",
        "        recommended = model.recommend(userIDs[u], Xui_csr[userIDs[u]], N=nGames, filter_already_liked_items=False)\n",
        "        # if the score of game g is greater some value, we predict that user u would play it\n",
        "        if recommended[1][np.where(recommended[0]==gameIDs[g])] > 0.8:\n",
        "            pred = 1\n",
        "\n",
        "        if pred == label:\n",
        "            correct += 1\n",
        "\n",
        "acc = correct / (len(playedValid) + len(notPlayed))\n",
        "print(f\"acc: {acc}\")"
      ],
      "metadata": {
        "colab": {
          "base_uri": "https://localhost:8080/"
        },
        "id": "LUmd0zOXJzSg",
        "outputId": "00c9dcb0-60c9-4cd4-9949-c4e4fd06c413"
      },
      "execution_count": 106,
      "outputs": [
        {
          "output_type": "stream",
          "name": "stdout",
          "text": [
            "acc: 0.5492049204920492\n"
          ]
        }
      ]
    },
    {
      "cell_type": "markdown",
      "source": [
        "Combine with popularity"
      ],
      "metadata": {
        "id": "aq6p2DHJSpEs"
      }
    },
    {
      "cell_type": "code",
      "source": [
        "correct = 0\n",
        "for (label, sample) in [(1, playedValid), (0, notPlayed)]:\n",
        "    for (u, g) in sample:\n",
        "        pred = 0\n",
        "        recommended = model.recommend(userIDs[u], Xui_csr[userIDs[u]], N=nGames, filter_already_liked_items=False)\n",
        "        if recommended[1][np.where(recommended[0]==gameIDs[g])] > 0.8 or len(hoursPerItem[g]) > 70:\n",
        "            pred = 1\n",
        "\n",
        "        if pred == label:\n",
        "            correct += 1\n",
        "\n",
        "acc = correct / (len(playedValid) + len(notPlayed))\n",
        "print(f\"acc: {acc}\")"
      ],
      "metadata": {
        "colab": {
          "base_uri": "https://localhost:8080/"
        },
        "id": "eTCDqHn9Sn4w",
        "outputId": "31a0e52c-4eb6-41fc-d306-64d64f30e1af"
      },
      "execution_count": 120,
      "outputs": [
        {
          "output_type": "stream",
          "name": "stdout",
          "text": [
            "acc: 0.7122212221222122\n"
          ]
        }
      ]
    },
    {
      "cell_type": "markdown",
      "source": [
        "The datasets are very popularity-dominant, i.e., people just play popular games most of the time. So consider the popularity is important.\n",
        "\n",
        "The number of factors of bpr model also important for the result."
      ],
      "metadata": {
        "id": "YRwSB3V_X--L"
      }
    },
    {
      "cell_type": "markdown",
      "source": [
        "### Question 5 (For assignment 1)\n",
        "\n",
        "To run our model on the test set, we’ll have to use the files ‘pairs Played.txt’ to find the reviewerID/itemID\n",
        "pairs about which we have to make predictions. Using that data, run the above model and upload your\n",
        "solution to the Assignment 1 gradescope. If you’ve already uploaded a better solution to gradescope,\n",
        "that’s fine too!"
      ],
      "metadata": {
        "id": "4grktiA8NexM"
      }
    },
    {
      "cell_type": "code",
      "source": [
        "predictions = open(\"HWpredictions_Played.csv\", 'w')\n",
        "for l in open(\"pairs_Played.csv\"):\n",
        "    if l.startswith(\"userID\"):\n",
        "        predictions.write(l)\n",
        "        continue\n",
        "    u,g = l.strip().split(',')\n",
        "\n",
        "    # Logic...\n",
        "    maxSim = 0\n",
        "    users = set(hoursPerItem[g])\n",
        "    for g2,_ in hoursPerUser[u]:\n",
        "        sim = Jaccard(users,set(hoursPerItem[g2]))\n",
        "        if sim > maxSim:\n",
        "            maxSim = sim\n",
        "    pred = 0\n",
        "    if maxSim > 0.025 or len(hoursPerItem[g]) > 60:\n",
        "        pred = 1\n",
        "\n",
        "    _ = predictions.write(u + ',' + g + ',' + str(pred) + '\\n')\n",
        "\n",
        "predictions.close()"
      ],
      "metadata": {
        "id": "spuF1L0aVv0L"
      },
      "execution_count": null,
      "outputs": []
    },
    {
      "cell_type": "code",
      "source": [
        "answers['Q5'] = \"I confirm that I have uploaded an assignment submission to gradescope\""
      ],
      "metadata": {
        "id": "TTrma98aVvvb"
      },
      "execution_count": null,
      "outputs": []
    },
    {
      "cell_type": "markdown",
      "source": [
        "## Time played prediction\n",
        "\n",
        "Let’s start by building our training/validation sets much as we did for the first task. This time building a\n",
        "validation set is more straightforward: you can simply use part of the data for validation, and do not need to\n",
        "randomly sample non-played users/games.\n",
        "Note that you should use the time transformed field, which is computed as log2\n",
        "(time played + 1). This\n",
        "is the quantity we are trying to predict."
      ],
      "metadata": {
        "id": "KxDUWwzAC8Ca"
      }
    },
    {
      "cell_type": "code",
      "source": [
        "trainHours = [r[2]['hours_transformed'] for r in hoursTrain]\n",
        "globalAverage = sum(trainHours) * 1.0 / len(trainHours)"
      ],
      "metadata": {
        "id": "BMGORqhZLx21"
      },
      "execution_count": 38,
      "outputs": []
    },
    {
      "cell_type": "code",
      "source": [
        "validMSE = 0\n",
        "for u,g,d in hoursValid:\n",
        "    r = d['hours_transformed']\n",
        "    se = (r - globalAverage)**2\n",
        "    validMSE += se\n",
        "\n",
        "validMSE /= len(hoursValid)\n",
        "\n",
        "print(\"Validation MSE (average only) = \" + str(validMSE))"
      ],
      "metadata": {
        "id": "qPYmSe9ythcS",
        "colab": {
          "base_uri": "https://localhost:8080/"
        },
        "outputId": "6728a2c3-4d8a-4051-df8b-085868aed0b6"
      },
      "execution_count": 39,
      "outputs": [
        {
          "output_type": "stream",
          "name": "stdout",
          "text": [
            "Validation MSE (average only) = 5.316020858088501\n"
          ]
        }
      ]
    },
    {
      "cell_type": "markdown",
      "source": [
        "\n",
        "### Question 6\n",
        "\n",
        "Fit a predictor of the form\n",
        "\n",
        " - time(user, item) ≃ α + βuser + βitem,\n",
        "\n",
        "by fitting the mean and the two bias terms as described in the lecture notes. Use a regularization\n",
        "parameter of λ = 1. Report the MSE on the validation set.\n",
        "\n",
        "Page 83: https://cseweb.ucsd.edu/classes/fa23/cse258-a/slides/recommendation.pdf"
      ],
      "metadata": {
        "id": "iOVZb70dWY-_"
      }
    },
    {
      "cell_type": "code",
      "source": [
        "betaU = {}\n",
        "betaI = {}\n",
        "for u in hoursPerUser:\n",
        "    betaU[u] = 0\n",
        "\n",
        "for g in hoursPerItem:\n",
        "    betaI[g] = 0"
      ],
      "metadata": {
        "id": "OdNFja2qWW-k"
      },
      "execution_count": 123,
      "outputs": []
    },
    {
      "cell_type": "code",
      "source": [
        "alpha = globalAverage # Could initialize anywhere, this is a guess\n",
        "alpha"
      ],
      "metadata": {
        "id": "wmwo-P4uWW8P",
        "colab": {
          "base_uri": "https://localhost:8080/"
        },
        "outputId": "dd6ee75d-d191-4318-a589-811acfe5810e"
      },
      "execution_count": 124,
      "outputs": [
        {
          "output_type": "execute_result",
          "data": {
            "text/plain": [
              "3.716088074007024"
            ]
          },
          "metadata": {},
          "execution_count": 124
        }
      ]
    },
    {
      "cell_type": "code",
      "source": [
        "def MSE(y, ypred):\n",
        "    diffs = [(a-b)**2 for (a,b) in zip(y,ypred)]\n",
        "    return sum(diffs) / len(diffs)"
      ],
      "metadata": {
        "id": "VFJRT09iF-4a"
      },
      "execution_count": 125,
      "outputs": []
    },
    {
      "cell_type": "code",
      "source": [
        "# hoursPerItem #  'g36137304': {0.13750352374993502,\n",
        "              # 0.2630344058337938,\n",
        "              # 0.5849625007211562,\n",
        "              # 0.6780719051126377,\n",
        "              # 0.925999418556223,\n",
        "              # 1.4329594072761063,\n",
        "              # ..."
      ],
      "metadata": {
        "id": "kejd8QmNSXjO"
      },
      "execution_count": 126,
      "outputs": []
    },
    {
      "cell_type": "code",
      "source": [
        "def iterate(lamb):\n",
        "    # ...\n",
        "    ## Update alpha\n",
        "    newAlpha = 0\n",
        "    for u,g,d in hoursTrain:\n",
        "        r = d['hours_transformed']\n",
        "        newAlpha += r - (betaU[u] + betaI[g])\n",
        "    alpha = newAlpha / len(hoursTrain)\n",
        "\n",
        "    ## Update BetaU\n",
        "    for u in hoursPerUser:\n",
        "        newBetaU = 0\n",
        "        for g,r in hoursPerUser[u]:\n",
        "            newBetaU += r - (alpha + betaI[g])\n",
        "        betaU[u] = newBetaU / (lamb + len(hoursPerUser[u]))\n",
        "\n",
        "    ## Update BetaI\n",
        "    for g in hoursPerItem:\n",
        "        newBetaI = 0\n",
        "        for u,r in hoursPerItem[g]:\n",
        "            newBetaI += r - (alpha + betaU[u])\n",
        "        betaI[g] = newBetaI / (lamb + len(hoursPerItem[g]))\n",
        "\n",
        "    ## Calculate MSE\n",
        "    mse = 0\n",
        "    for u,g,d in hoursTrain:\n",
        "        r = d['hours_transformed']\n",
        "        prediction = alpha + betaU[u] + betaI[g]\n",
        "        mse += (r - prediction)**2\n",
        "    regularizer = 0\n",
        "    for u in betaU:\n",
        "        regularizer += betaU[u]**2\n",
        "    for g in betaI:\n",
        "        regularizer += betaI[g]**2\n",
        "    mse /= len(hoursTrain)\n",
        "    return mse, mse + lamb*regularizer"
      ],
      "metadata": {
        "id": "424dEUeFWW5v"
      },
      "execution_count": 127,
      "outputs": []
    },
    {
      "cell_type": "code",
      "source": [
        "mse,objective = iterate(1)\n",
        "newMSE,newObjective = iterate(1)\n",
        "iterations = 2"
      ],
      "metadata": {
        "id": "0OKMC_Id5P-D"
      },
      "execution_count": 128,
      "outputs": []
    },
    {
      "cell_type": "code",
      "source": [
        "## See if it will converge\n",
        "while iterations < 10 or objective - newObjective > 0.01:\n",
        "    mse, objective = newMSE, newObjective\n",
        "    newMSE, newObjective = iterate(1)\n",
        "    iterations += 1\n",
        "    print(\"Objective after \"\n",
        "        + str(iterations) + \" iterations = \" + str(newObjective))\n",
        "    print(\"MSE after \"\n",
        "        + str(iterations) + \" iterations = \" + str(newMSE))"
      ],
      "metadata": {
        "colab": {
          "base_uri": "https://localhost:8080/"
        },
        "id": "II3wi3jNwLhL",
        "outputId": "b0ac898c-3008-4db1-eafd-6160efb335f7"
      },
      "execution_count": 129,
      "outputs": [
        {
          "output_type": "stream",
          "name": "stdout",
          "text": [
            "Objective after 3 iterations = 6916.291258826528\n",
            "MSE after 3 iterations = 2.756414053005335\n",
            "Objective after 4 iterations = 6935.23715550776\n",
            "MSE after 4 iterations = 2.755604333875777\n",
            "Objective after 5 iterations = 6924.6062017768245\n",
            "MSE after 5 iterations = 2.755486661616215\n",
            "Objective after 6 iterations = 6905.833993834695\n",
            "MSE after 6 iterations = 2.755457716152593\n",
            "Objective after 7 iterations = 6885.30918519728\n",
            "MSE after 7 iterations = 2.7554456693587497\n",
            "Objective after 8 iterations = 6864.742698779786\n",
            "MSE after 8 iterations = 2.7554377123048535\n",
            "Objective after 9 iterations = 6844.576219662253\n",
            "MSE after 9 iterations = 2.755430906995692\n",
            "Objective after 10 iterations = 6824.91582215507\n",
            "MSE after 10 iterations = 2.7554245073468486\n",
            "Objective after 11 iterations = 6805.779255606049\n",
            "MSE after 11 iterations = 2.7554183159504917\n",
            "Objective after 12 iterations = 6787.161156344411\n",
            "MSE after 12 iterations = 2.755412278370264\n",
            "Objective after 13 iterations = 6769.050270855048\n",
            "MSE after 13 iterations = 2.7554063779432876\n",
            "Objective after 14 iterations = 6751.43401216254\n",
            "MSE after 14 iterations = 2.7554006080674713\n",
            "Objective after 15 iterations = 6734.299664474671\n",
            "MSE after 15 iterations = 2.7553949648590272\n",
            "Objective after 16 iterations = 6717.634699118593\n",
            "MSE after 16 iterations = 2.7553894452023\n",
            "Objective after 17 iterations = 6701.42685449733\n",
            "MSE after 17 iterations = 2.7553840462308505\n",
            "Objective after 18 iterations = 6685.664153329271\n",
            "MSE after 18 iterations = 2.75537876518856\n",
            "Objective after 19 iterations = 6670.334903216617\n",
            "MSE after 19 iterations = 2.7553735993920143\n",
            "Objective after 20 iterations = 6655.427692791793\n",
            "MSE after 20 iterations = 2.755368546219614\n",
            "Objective after 21 iterations = 6640.931386705938\n",
            "MSE after 21 iterations = 2.755363603107894\n",
            "Objective after 22 iterations = 6626.835120331246\n",
            "MSE after 22 iterations = 2.7553587675502897\n",
            "Objective after 23 iterations = 6613.128294413673\n",
            "MSE after 23 iterations = 2.75535403709532\n",
            "Objective after 24 iterations = 6599.800569742033\n",
            "MSE after 24 iterations = 2.755349409346207\n",
            "Objective after 25 iterations = 6586.841861854152\n",
            "MSE after 25 iterations = 2.7553448819592377\n",
            "Objective after 26 iterations = 6574.242335788143\n",
            "MSE after 26 iterations = 2.7553404526430616\n",
            "Objective after 27 iterations = 6561.992400884105\n",
            "MSE after 27 iterations = 2.7553361191579246\n",
            "Objective after 28 iterations = 6550.0827056394655\n",
            "MSE after 28 iterations = 2.7553318793142894\n",
            "Objective after 29 iterations = 6538.504132621169\n",
            "MSE after 29 iterations = 2.7553277309720334\n",
            "Objective after 30 iterations = 6527.247793437296\n",
            "MSE after 30 iterations = 2.7553236720397396\n",
            "Objective after 31 iterations = 6516.30502377073\n",
            "MSE after 31 iterations = 2.7553197004729713\n",
            "Objective after 32 iterations = 6505.667378476852\n",
            "MSE after 32 iterations = 2.7553158142743737\n",
            "Objective after 33 iterations = 6495.326626747495\n",
            "MSE after 33 iterations = 2.7553120114919576\n",
            "Objective after 34 iterations = 6485.274747342254\n",
            "MSE after 34 iterations = 2.755308290218471\n",
            "Objective after 35 iterations = 6475.503923889192\n",
            "MSE after 35 iterations = 2.7553046485902595\n",
            "Objective after 36 iterations = 6466.006540256186\n",
            "MSE after 36 iterations = 2.755301084786918\n",
            "Objective after 37 iterations = 6456.775175993412\n",
            "MSE after 37 iterations = 2.7552975970296427\n",
            "Objective after 38 iterations = 6447.8026018486835\n",
            "MSE after 38 iterations = 2.755294183580897\n",
            "Objective after 39 iterations = 6439.081775355684\n",
            "MSE after 39 iterations = 2.755290842743317\n",
            "Objective after 40 iterations = 6430.605836496414\n",
            "MSE after 40 iterations = 2.7552875728588435\n",
            "Objective after 41 iterations = 6422.36810343727\n",
            "MSE after 41 iterations = 2.755284372308089\n",
            "Objective after 42 iterations = 6414.3620683403\n",
            "MSE after 42 iterations = 2.755281239509146\n",
            "Objective after 43 iterations = 6406.5813932488045\n",
            "MSE after 43 iterations = 2.7552781729172677\n",
            "Objective after 44 iterations = 6399.019906047929\n",
            "MSE after 44 iterations = 2.755275171023384\n",
            "Objective after 45 iterations = 6391.671596499879\n",
            "MSE after 45 iterations = 2.7552722323539034\n",
            "Objective after 46 iterations = 6384.530612354044\n",
            "MSE after 46 iterations = 2.7552693554698893\n",
            "Objective after 47 iterations = 6377.591255531202\n",
            "MSE after 47 iterations = 2.755266538965634\n",
            "Objective after 48 iterations = 6370.847978382115\n",
            "MSE after 48 iterations = 2.755263781468952\n",
            "Objective after 49 iterations = 6364.295380019602\n",
            "MSE after 49 iterations = 2.7552610816395213\n",
            "Objective after 50 iterations = 6357.928202724139\n",
            "MSE after 50 iterations = 2.7552584381686684\n",
            "Objective after 51 iterations = 6351.74132842174\n",
            "MSE after 51 iterations = 2.7552558497783872\n",
            "Objective after 52 iterations = 6345.729775234503\n",
            "MSE after 52 iterations = 2.7552533152208745\n",
            "Objective after 53 iterations = 6339.888694102179\n",
            "MSE after 53 iterations = 2.7552508332777172\n",
            "Objective after 54 iterations = 6334.213365474639\n",
            "MSE after 54 iterations = 2.7552484027592636\n",
            "Objective after 55 iterations = 6328.6991960745945\n",
            "MSE after 55 iterations = 2.755246022503722\n",
            "Objective after 56 iterations = 6323.341715729331\n",
            "MSE after 56 iterations = 2.7552436913769434\n",
            "Objective after 57 iterations = 6318.136574270832\n",
            "MSE after 57 iterations = 2.7552414082714813\n",
            "Objective after 58 iterations = 6313.0795385038555\n",
            "MSE after 58 iterations = 2.7552391721060907\n",
            "Objective after 59 iterations = 6308.166489240096\n",
            "MSE after 59 iterations = 2.7552369818250906\n",
            "Objective after 60 iterations = 6303.393418398714\n",
            "MSE after 60 iterations = 2.7552348363975234\n",
            "Objective after 61 iterations = 6298.756426171405\n",
            "MSE after 61 iterations = 2.755232734817185\n",
            "Objective after 62 iterations = 6294.251718251424\n",
            "MSE after 62 iterations = 2.755230676101416\n",
            "Objective after 63 iterations = 6289.875603125404\n",
            "MSE after 63 iterations = 2.7552286592909137\n",
            "Objective after 64 iterations = 6285.624489427454\n",
            "MSE after 64 iterations = 2.7552266834489743\n",
            "Objective after 65 iterations = 6281.494883353901\n",
            "MSE after 65 iterations = 2.755224747661118\n",
            "Objective after 66 iterations = 6277.483386137944\n",
            "MSE after 66 iterations = 2.7552228510344263\n",
            "Objective after 67 iterations = 6273.586691583376\n",
            "MSE after 67 iterations = 2.7552209926973195\n",
            "Objective after 68 iterations = 6269.801583656375\n",
            "MSE after 68 iterations = 2.7552191717984322\n",
            "Objective after 69 iterations = 6266.124934133474\n",
            "MSE after 69 iterations = 2.755217387506903\n",
            "Objective after 70 iterations = 6262.553700306501\n",
            "MSE after 70 iterations = 2.755215639011298\n",
            "Objective after 71 iterations = 6259.084922741118\n",
            "MSE after 71 iterations = 2.7552139255195067\n",
            "Objective after 72 iterations = 6255.715723089974\n",
            "MSE after 72 iterations = 2.75521224625794\n",
            "Objective after 73 iterations = 6252.443301958438\n",
            "MSE after 73 iterations = 2.755210600471474\n",
            "Objective after 74 iterations = 6249.264936822002\n",
            "MSE after 74 iterations = 2.755208987422716\n",
            "Objective after 75 iterations = 6246.177979994333\n",
            "MSE after 75 iterations = 2.75520740639168\n",
            "Objective after 76 iterations = 6243.179856645362\n",
            "MSE after 76 iterations = 2.7552058566751696\n",
            "Objective after 77 iterations = 6240.268062867795\n",
            "MSE after 77 iterations = 2.7552043375870325\n",
            "Objective after 78 iterations = 6237.440163791482\n",
            "MSE after 78 iterations = 2.7552028484569147\n",
            "Objective after 79 iterations = 6234.693791744573\n",
            "MSE after 79 iterations = 2.7552013886302187\n",
            "Objective after 80 iterations = 6232.026644460383\n",
            "MSE after 80 iterations = 2.755199957467903\n",
            "Objective after 81 iterations = 6229.4364833290465\n",
            "MSE after 81 iterations = 2.7551985543459394\n",
            "Objective after 82 iterations = 6226.921131692934\n",
            "MSE after 82 iterations = 2.75519717865484\n",
            "Objective after 83 iterations = 6224.478473185301\n",
            "MSE after 83 iterations = 2.7551958297996575\n",
            "Objective after 84 iterations = 6222.106450110579\n",
            "MSE after 84 iterations = 2.7551945071989956\n",
            "Objective after 85 iterations = 6219.803061865588\n",
            "MSE after 85 iterations = 2.7551932102855683\n",
            "Objective after 86 iterations = 6217.566363401439\n",
            "MSE after 86 iterations = 2.755191938505033\n",
            "Objective after 87 iterations = 6215.394463724159\n",
            "MSE after 87 iterations = 2.7551906913160638\n",
            "Objective after 88 iterations = 6213.285524433853\n",
            "MSE after 88 iterations = 2.7551894681902303\n",
            "Objective after 89 iterations = 6211.237758301357\n",
            "MSE after 89 iterations = 2.755188268610983\n",
            "Objective after 90 iterations = 6209.249427881521\n",
            "MSE after 90 iterations = 2.755187092074258\n",
            "Objective after 91 iterations = 6207.318844162245\n",
            "MSE after 91 iterations = 2.7551859380875623\n",
            "Objective after 92 iterations = 6205.444365248543\n",
            "MSE after 92 iterations = 2.755184806169715\n",
            "Objective after 93 iterations = 6203.6243950805465\n",
            "MSE after 93 iterations = 2.7551836958510476\n",
            "Objective after 94 iterations = 6201.857382185177\n",
            "MSE after 94 iterations = 2.755182606672543\n",
            "Objective after 95 iterations = 6200.141818460075\n",
            "MSE after 95 iterations = 2.7551815381859104\n",
            "Objective after 96 iterations = 6198.4762379894\n",
            "MSE after 96 iterations = 2.755180489953302\n",
            "Objective after 97 iterations = 6196.859215890833\n",
            "MSE after 97 iterations = 2.7551794615468492\n",
            "Objective after 98 iterations = 6195.289367192376\n",
            "MSE after 98 iterations = 2.7551784525487086\n",
            "Objective after 99 iterations = 6193.765345739354\n",
            "MSE after 99 iterations = 2.7551774625507677\n",
            "Objective after 100 iterations = 6192.28584312967\n",
            "MSE after 100 iterations = 2.7551764911539762\n",
            "Objective after 101 iterations = 6190.849587677592\n",
            "MSE after 101 iterations = 2.755175537968728\n",
            "Objective after 102 iterations = 6189.455343404591\n",
            "MSE after 102 iterations = 2.7551746026143817\n",
            "Objective after 103 iterations = 6188.101909057368\n",
            "MSE after 103 iterations = 2.755173684719025\n",
            "Objective after 104 iterations = 6186.788117151625\n",
            "MSE after 104 iterations = 2.7551727839192757\n",
            "Objective after 105 iterations = 6185.512833041619\n",
            "MSE after 105 iterations = 2.7551718998598536\n",
            "Objective after 106 iterations = 6184.274954014104\n",
            "MSE after 106 iterations = 2.7551710321938527\n",
            "Objective after 107 iterations = 6183.073408406907\n",
            "MSE after 107 iterations = 2.75517018058216\n",
            "Objective after 108 iterations = 6181.907154750918\n",
            "MSE after 108 iterations = 2.7551693446934946\n",
            "Objective after 109 iterations = 6180.7751809349475\n",
            "MSE after 109 iterations = 2.7551685242040462\n",
            "Objective after 110 iterations = 6179.676503393395\n",
            "MSE after 110 iterations = 2.755167718797358\n",
            "Objective after 111 iterations = 6178.610166315193\n",
            "MSE after 111 iterations = 2.755166928164092\n",
            "Objective after 112 iterations = 6177.575240874622\n",
            "MSE after 112 iterations = 2.755166152002062\n",
            "Objective after 113 iterations = 6176.5708244825655\n",
            "MSE after 113 iterations = 2.7551653900158555\n",
            "Objective after 114 iterations = 6175.596040057944\n",
            "MSE after 114 iterations = 2.7551646419165827\n",
            "Objective after 115 iterations = 6174.650035319073\n",
            "MSE after 115 iterations = 2.7551639074220287\n",
            "Objective after 116 iterations = 6173.731982094017\n",
            "MSE after 116 iterations = 2.7551631862563006\n",
            "Objective after 117 iterations = 6172.841075649775\n",
            "MSE after 117 iterations = 2.7551624781497828\n",
            "Objective after 118 iterations = 6171.976534039694\n",
            "MSE after 118 iterations = 2.7551617828386927\n",
            "Objective after 119 iterations = 6171.137597468352\n",
            "MSE after 119 iterations = 2.755161100065251\n",
            "Objective after 120 iterations = 6170.323527674186\n",
            "MSE after 120 iterations = 2.7551604295775673\n",
            "Objective after 121 iterations = 6169.53360732854\n",
            "MSE after 121 iterations = 2.7551597711292026\n",
            "Objective after 122 iterations = 6168.767139451411\n",
            "MSE after 122 iterations = 2.7551591244791824\n",
            "Objective after 123 iterations = 6168.023446842763\n",
            "MSE after 123 iterations = 2.7551584893920227\n",
            "Objective after 124 iterations = 6167.301871529889\n",
            "MSE after 124 iterations = 2.75515786563742\n",
            "Objective after 125 iterations = 6166.601774229598\n",
            "MSE after 125 iterations = 2.7551572529900477\n",
            "Objective after 126 iterations = 6165.922533825072\n",
            "MSE after 126 iterations = 2.7551566512298846\n",
            "Objective after 127 iterations = 6165.263546857381\n",
            "MSE after 127 iterations = 2.7551560601411413\n",
            "Objective after 128 iterations = 6164.624227030519\n",
            "MSE after 128 iterations = 2.755155479513553\n",
            "Objective after 129 iterations = 6164.00400473055\n",
            "MSE after 129 iterations = 2.7551549091409693\n",
            "Objective after 130 iterations = 6163.402326557554\n",
            "MSE after 130 iterations = 2.755154348821793\n",
            "Objective after 131 iterations = 6162.818654870794\n",
            "MSE after 131 iterations = 2.755153798359033\n",
            "Objective after 132 iterations = 6162.252467345997\n",
            "MSE after 132 iterations = 2.7551532575599436\n",
            "Objective after 133 iterations = 6161.703256545451\n",
            "MSE after 133 iterations = 2.755152726235745\n",
            "Objective after 134 iterations = 6161.170529499191\n",
            "MSE after 134 iterations = 2.7551522042021115\n",
            "Objective after 135 iterations = 6160.653807298689\n",
            "MSE after 135 iterations = 2.755151691278474\n",
            "Objective after 136 iterations = 6160.1526247008005\n",
            "MSE after 136 iterations = 2.7551511872884213\n",
            "Objective after 137 iterations = 6159.66652974344\n",
            "MSE after 137 iterations = 2.7551506920588955\n",
            "Objective after 138 iterations = 6159.195083371605\n",
            "MSE after 138 iterations = 2.755150205421179\n",
            "Objective after 139 iterations = 6158.7378590735025\n",
            "MSE after 139 iterations = 2.755149727209751\n",
            "Objective after 140 iterations = 6158.294442527416\n",
            "MSE after 140 iterations = 2.755149257262783\n",
            "Objective after 141 iterations = 6157.864431257568\n",
            "MSE after 141 iterations = 2.755148795421928\n",
            "Objective after 142 iterations = 6157.44743430036\n",
            "MSE after 142 iterations = 2.7551483415321254\n",
            "Objective after 143 iterations = 6157.04307187915\n",
            "MSE after 143 iterations = 2.7551478954418833\n",
            "Objective after 144 iterations = 6156.650975088661\n",
            "MSE after 144 iterations = 2.7551474570026104\n",
            "Objective after 145 iterations = 6156.270785587707\n",
            "MSE after 145 iterations = 2.7551470260691757\n",
            "Objective after 146 iterations = 6155.902155300904\n",
            "MSE after 146 iterations = 2.755146602499173\n",
            "Objective after 147 iterations = 6155.5447461283\n",
            "MSE after 147 iterations = 2.7551461861535755\n",
            "Objective after 148 iterations = 6155.198229663355\n",
            "MSE after 148 iterations = 2.755145776896123\n",
            "Objective after 149 iterations = 6154.862286918776\n",
            "MSE after 149 iterations = 2.755145374593421\n",
            "Objective after 150 iterations = 6154.536608059756\n",
            "MSE after 150 iterations = 2.7551449791148466\n",
            "Objective after 151 iterations = 6154.220892145022\n",
            "MSE after 151 iterations = 2.755144590332686\n",
            "Objective after 152 iterations = 6153.914846874891\n",
            "MSE after 152 iterations = 2.75514420812168\n",
            "Objective after 153 iterations = 6153.618188346351\n",
            "MSE after 153 iterations = 2.755143832359347\n",
            "Objective after 154 iterations = 6153.330640815268\n",
            "MSE after 154 iterations = 2.7551434629257128\n",
            "Objective after 155 iterations = 6153.05193646471\n",
            "MSE after 155 iterations = 2.7551430997032136\n",
            "Objective after 156 iterations = 6152.781815180458\n",
            "MSE after 156 iterations = 2.7551427425769015\n",
            "Objective after 157 iterations = 6152.52002433217\n",
            "MSE after 157 iterations = 2.7551423914339845\n",
            "Objective after 158 iterations = 6152.266318561101\n",
            "MSE after 158 iterations = 2.755142046164266\n",
            "Objective after 159 iterations = 6152.020459573577\n",
            "MSE after 159 iterations = 2.7551417066595243\n",
            "Objective after 160 iterations = 6151.782215940313\n",
            "MSE after 160 iterations = 2.755141372813964\n",
            "Objective after 161 iterations = 6151.551362901409\n",
            "MSE after 161 iterations = 2.7551410445240054\n",
            "Objective after 162 iterations = 6151.327682176633\n",
            "MSE after 162 iterations = 2.755140721688\n",
            "Objective after 163 iterations = 6151.110961781449\n",
            "MSE after 163 iterations = 2.7551404042065246\n",
            "Objective after 164 iterations = 6150.900995847605\n",
            "MSE after 164 iterations = 2.75514009198205\n",
            "Objective after 165 iterations = 6150.697584449393\n",
            "MSE after 165 iterations = 2.7551397849191863\n",
            "Objective after 166 iterations = 6150.500533434361\n",
            "MSE after 166 iterations = 2.7551394829244034\n",
            "Objective after 167 iterations = 6150.30965425899\n",
            "MSE after 167 iterations = 2.7551391859059935\n",
            "Objective after 168 iterations = 6150.124763828995\n",
            "MSE after 168 iterations = 2.7551388937742214\n",
            "Objective after 169 iterations = 6149.945684343844\n",
            "MSE after 169 iterations = 2.7551386064410512\n",
            "Objective after 170 iterations = 6149.7722431462025\n",
            "MSE after 170 iterations = 2.755138323820326\n",
            "Objective after 171 iterations = 6149.604272575092\n",
            "MSE after 171 iterations = 2.7551380458276458\n",
            "Objective after 172 iterations = 6149.441609823448\n",
            "MSE after 172 iterations = 2.755137772379885\n",
            "Objective after 173 iterations = 6149.284096799821\n",
            "MSE after 173 iterations = 2.7551375033964063\n",
            "Objective after 174 iterations = 6149.131579993451\n",
            "MSE after 174 iterations = 2.755137238797174\n",
            "Objective after 175 iterations = 6148.983910343885\n",
            "MSE after 175 iterations = 2.755136978504623\n",
            "Objective after 176 iterations = 6148.8409431136315\n",
            "MSE after 176 iterations = 2.7551367224421464\n",
            "Objective after 177 iterations = 6148.702537764905\n",
            "MSE after 177 iterations = 2.755136470534834\n",
            "Objective after 178 iterations = 6148.568557839423\n",
            "MSE after 178 iterations = 2.7551362227094485\n",
            "Objective after 179 iterations = 6148.438870841919\n",
            "MSE after 179 iterations = 2.755135978893863\n",
            "Objective after 180 iterations = 6148.3133481268615\n",
            "MSE after 180 iterations = 2.755135739017546\n",
            "Objective after 181 iterations = 6148.191864788228\n",
            "MSE after 181 iterations = 2.7551355030114055\n",
            "Objective after 182 iterations = 6148.074299552734\n",
            "MSE after 182 iterations = 2.755135270807567\n",
            "Objective after 183 iterations = 6147.960534675639\n",
            "MSE after 183 iterations = 2.7551350423393868\n",
            "Objective after 184 iterations = 6147.850455839888\n",
            "MSE after 184 iterations = 2.755134817541883\n",
            "Objective after 185 iterations = 6147.743952057975\n",
            "MSE after 185 iterations = 2.755134596351097\n",
            "Objective after 186 iterations = 6147.640915576365\n",
            "MSE after 186 iterations = 2.7551343787041427\n",
            "Objective after 187 iterations = 6147.541241783128\n",
            "MSE after 187 iterations = 2.7551341645396503\n",
            "Objective after 188 iterations = 6147.444829117708\n",
            "MSE after 188 iterations = 2.7551339537973165\n",
            "Objective after 189 iterations = 6147.351578983399\n",
            "MSE after 189 iterations = 2.755133746417995\n",
            "Objective after 190 iterations = 6147.261395662441\n",
            "MSE after 190 iterations = 2.755133542343584\n",
            "Objective after 191 iterations = 6147.174186233482\n",
            "MSE after 191 iterations = 2.755133341517252\n",
            "Objective after 192 iterations = 6147.089860491095\n",
            "MSE after 192 iterations = 2.7551331438831084\n",
            "Objective after 193 iterations = 6147.008330868062\n",
            "MSE after 193 iterations = 2.7551329493865566\n",
            "Objective after 194 iterations = 6146.929512359471\n",
            "MSE after 194 iterations = 2.755132757973776\n",
            "Objective after 195 iterations = 6146.853322449079\n",
            "MSE after 195 iterations = 2.755132569592038\n",
            "Objective after 196 iterations = 6146.779681037949\n",
            "MSE after 196 iterations = 2.755132384189648\n",
            "Objective after 197 iterations = 6146.708510374767\n",
            "MSE after 197 iterations = 2.755132201716019\n",
            "Objective after 198 iterations = 6146.6397349885465\n",
            "MSE after 198 iterations = 2.7551320221211615\n",
            "Objective after 199 iterations = 6146.573281622871\n",
            "MSE after 199 iterations = 2.7551318453564018\n",
            "Objective after 200 iterations = 6146.509079172258\n",
            "MSE after 200 iterations = 2.755131671373813\n",
            "Objective after 201 iterations = 6146.447058620157\n",
            "MSE after 201 iterations = 2.7551315001263044\n",
            "Objective after 202 iterations = 6146.387152978971\n",
            "MSE after 202 iterations = 2.7551313315677946\n",
            "Objective after 203 iterations = 6146.329297231423\n",
            "MSE after 203 iterations = 2.7551311656529243\n",
            "Objective after 204 iterations = 6146.273428273903\n",
            "MSE after 204 iterations = 2.7551310023373854\n",
            "Objective after 205 iterations = 6146.219484861289\n",
            "MSE after 205 iterations = 2.755130841577367\n",
            "Objective after 206 iterations = 6146.167407553393\n",
            "MSE after 206 iterations = 2.755130683330162\n",
            "Objective after 207 iterations = 6146.117138662759\n",
            "MSE after 207 iterations = 2.7551305275537663\n",
            "Objective after 208 iterations = 6146.06862220431\n",
            "MSE after 208 iterations = 2.755130374206902\n",
            "Objective after 209 iterations = 6146.021803846011\n",
            "MSE after 209 iterations = 2.7551302232490915\n",
            "Objective after 210 iterations = 6145.976630861305\n",
            "MSE after 210 iterations = 2.7551300746404754\n",
            "Objective after 211 iterations = 6145.933052082616\n",
            "MSE after 211 iterations = 2.7551299283421486\n",
            "Objective after 212 iterations = 6145.891017856326\n",
            "MSE after 212 iterations = 2.755129784315841\n",
            "Objective after 213 iterations = 6145.8504799991515\n",
            "MSE after 213 iterations = 2.755129642523826\n",
            "Objective after 214 iterations = 6145.811391755352\n",
            "MSE after 214 iterations = 2.7551295029290985\n",
            "Objective after 215 iterations = 6145.7737077557595\n",
            "MSE after 215 iterations = 2.7551293654956623\n",
            "Objective after 216 iterations = 6145.737383977352\n",
            "MSE after 216 iterations = 2.755129230187613\n",
            "Objective after 217 iterations = 6145.702377704497\n",
            "MSE after 217 iterations = 2.755129096970159\n",
            "Objective after 218 iterations = 6145.668647491019\n",
            "MSE after 218 iterations = 2.755128965809017\n",
            "Objective after 219 iterations = 6145.636153123472\n",
            "MSE after 219 iterations = 2.7551288366702624\n",
            "Objective after 220 iterations = 6145.604855585256\n",
            "MSE after 220 iterations = 2.755128709520964\n",
            "Objective after 221 iterations = 6145.574717022079\n",
            "MSE after 221 iterations = 2.7551285843285407\n",
            "Objective after 222 iterations = 6145.545700708176\n",
            "MSE after 222 iterations = 2.755128461061073\n",
            "Objective after 223 iterations = 6145.5177710135595\n",
            "MSE after 223 iterations = 2.7551283396871216\n",
            "Objective after 224 iterations = 6145.490893372275\n",
            "MSE after 224 iterations = 2.7551282201759677\n",
            "Objective after 225 iterations = 6145.465034251389\n",
            "MSE after 225 iterations = 2.7551281024972116\n",
            "Objective after 226 iterations = 6145.440161121001\n",
            "MSE after 226 iterations = 2.755127986621249\n",
            "Objective after 227 iterations = 6145.416242425273\n",
            "MSE after 227 iterations = 2.755127872518889\n",
            "Objective after 228 iterations = 6145.393247553764\n",
            "MSE after 228 iterations = 2.75512776016132\n",
            "Objective after 229 iterations = 6145.371146814237\n",
            "MSE after 229 iterations = 2.7551276495204515\n",
            "Objective after 230 iterations = 6145.349911405779\n",
            "MSE after 230 iterations = 2.7551275405685307\n",
            "Objective after 231 iterations = 6145.329513392863\n",
            "MSE after 231 iterations = 2.755127433278451\n",
            "Objective after 232 iterations = 6145.309925680204\n",
            "MSE after 232 iterations = 2.755127327623333\n",
            "Objective after 233 iterations = 6145.291121988144\n",
            "MSE after 233 iterations = 2.7551272235770137\n",
            "Objective after 234 iterations = 6145.273076829062\n",
            "MSE after 234 iterations = 2.7551271211136816\n",
            "Objective after 235 iterations = 6145.255765484036\n",
            "MSE after 235 iterations = 2.755127020207931\n",
            "Objective after 236 iterations = 6145.2391639806665\n",
            "MSE after 236 iterations = 2.755126920834905\n",
            "Objective after 237 iterations = 6145.223249071015\n",
            "MSE after 237 iterations = 2.7551268229700527\n",
            "Objective after 238 iterations = 6145.207998210588\n",
            "MSE after 238 iterations = 2.755126726589404\n",
            "Objective after 239 iterations = 6145.193389537847\n",
            "MSE after 239 iterations = 2.7551266316692247\n",
            "Objective after 240 iterations = 6145.179401854016\n",
            "MSE after 240 iterations = 2.755126538186401\n",
            "Objective after 241 iterations = 6145.166014604002\n",
            "MSE after 241 iterations = 2.755126446117895\n",
            "Objective after 242 iterations = 6145.153207857072\n",
            "MSE after 242 iterations = 2.7551263554413787\n",
            "Objective after 243 iterations = 6145.140962289155\n",
            "MSE after 243 iterations = 2.7551262661347695\n",
            "Objective after 244 iterations = 6145.129259164617\n",
            "MSE after 244 iterations = 2.755126178176372\n",
            "Objective after 245 iterations = 6145.118080319207\n",
            "MSE after 245 iterations = 2.7551260915449074\n",
            "Objective after 246 iterations = 6145.107408143204\n",
            "MSE after 246 iterations = 2.7551260062193665\n",
            "Objective after 247 iterations = 6145.09722556525\n",
            "MSE after 247 iterations = 2.7551259221791637\n",
            "Objective after 248 iterations = 6145.087516036459\n",
            "MSE after 248 iterations = 2.755125839404119\n"
          ]
        }
      ]
    },
    {
      "cell_type": "code",
      "source": [
        "### Calculate mse of valid dataset\n",
        "validMSE = 0\n",
        "for u,g,d in hoursValid:\n",
        "    r = d['hours_transformed']\n",
        "    bu = 0\n",
        "    bi = 0\n",
        "    if u in betaU:\n",
        "        bu = betaU[u]\n",
        "    if g in betaI:\n",
        "        bi = betaI[g]\n",
        "    prediction = alpha + bu + bi\n",
        "    validMSE += (r - prediction)**2\n",
        "\n",
        "validMSE /= len(hoursValid)\n",
        "print(\"Validation MSE = \" + str(validMSE))"
      ],
      "metadata": {
        "id": "0TbTXc7Jw4Op",
        "colab": {
          "base_uri": "https://localhost:8080/"
        },
        "outputId": "2348d467-3088-45b1-fdfa-204f678e8395"
      },
      "execution_count": 130,
      "outputs": [
        {
          "output_type": "stream",
          "name": "stdout",
          "text": [
            "Validation MSE = 3.3620657269506733\n"
          ]
        }
      ]
    },
    {
      "cell_type": "markdown",
      "source": [
        "### Assignment 1: Implement early stopping"
      ],
      "metadata": {
        "id": "-TfeSo9BZyi2"
      }
    },
    {
      "cell_type": "code",
      "source": [
        "def get_validMSE(alpha, bu, bi):\n",
        "  validMSE = 0\n",
        "  for u,g,d in hoursValid:\n",
        "      r = d['hours_transformed']\n",
        "      bu = 0\n",
        "      bi = 0\n",
        "      if u in betaU:\n",
        "          bu = betaU[u]\n",
        "      if g in betaI:\n",
        "          bi = betaI[g]\n",
        "      prediction = alpha + bu + bi\n",
        "      validMSE += (r - prediction)**2\n",
        "\n",
        "  validMSE /= len(hoursValid)\n",
        "  # print(\"Validation MSE = \" + str(validMSE))\n",
        "  return validMSE"
      ],
      "metadata": {
        "id": "vUyHOXCWZ-nX"
      },
      "execution_count": 131,
      "outputs": []
    },
    {
      "cell_type": "code",
      "source": [
        "def iterate(lambU, lambI):\n",
        "    # Here we use different lamb for betaU and betaI\n",
        "    ## Update alpha\n",
        "    newAlpha = 0\n",
        "    for u,g,d in hoursTrain:\n",
        "        r = d['hours_transformed']\n",
        "        newAlpha += r - (betaU[u] + betaI[g])\n",
        "    alpha = newAlpha / len(hoursTrain)\n",
        "\n",
        "    ## Update BetaU\n",
        "    for u in hoursPerUser:\n",
        "        newBetaU = 0\n",
        "        for g,r in hoursPerUser[u]:\n",
        "            newBetaU += r - (alpha + betaI[g])\n",
        "        betaU[u] = newBetaU / (lambU + len(hoursPerUser[u]))\n",
        "\n",
        "    ## Update BetaI\n",
        "    for g in hoursPerItem:\n",
        "        newBetaI = 0\n",
        "        for u,r in hoursPerItem[g]:\n",
        "            newBetaI += r - (alpha + betaU[u])\n",
        "        betaI[g] = newBetaI / (lambI + len(hoursPerItem[g]))\n",
        "\n",
        "    ## Calculate MSE\n",
        "    mse = 0\n",
        "    for u,g,d in hoursTrain:\n",
        "        r = d['hours_transformed']\n",
        "        prediction = alpha + betaU[u] + betaI[g]\n",
        "        mse += (r - prediction)**2\n",
        "    regularizer = 0\n",
        "    for u in betaU:\n",
        "        regularizer += betaU[u]**2\n",
        "    for g in betaI:\n",
        "        regularizer += betaI[g]**2\n",
        "    mse /= len(hoursValid)\n",
        "    return mse, mse + (lambU + lambI) * regularizer"
      ],
      "metadata": {
        "id": "kcQFlD3Sa32o"
      },
      "execution_count": 132,
      "outputs": []
    },
    {
      "cell_type": "code",
      "source": [
        "alpha = globalAverage # Could initialize anywhere, this is a guess\n",
        "betaU = {}\n",
        "betaI = {}\n",
        "for u in hoursPerUser:\n",
        "    betaU[u] = 0\n",
        "\n",
        "for g in hoursPerItem:\n",
        "    betaI[g] = 0\n",
        "\n",
        "lambU, lambI = 7.9, 1.2\n",
        "newMSE,newObjective = iterate(lambU, lambI)\n",
        "iterations = 1\n",
        "validMSE = get_validMSE(alpha, betaU, betaI)\n",
        "print(f\"validMSE: {validMSE}\")\n",
        "while iterations < 10 or objective - newObjective > 0.01:\n",
        "    mse, objective = newMSE, newObjective\n",
        "    newMSE, newObjective = iterate(lambU, lambI) # Let lambda to be 5\n",
        "    iterations += 1\n",
        "\n",
        "    # Early stopping, stop iterate when the mse increase\n",
        "    new_validMSE = get_validMSE(alpha, betaU, betaI)\n",
        "    print(f\"validMSE: {new_validMSE}\")\n",
        "    if validMSE - new_validMSE < 0.000000001:\n",
        "      print(f\"validMSE - new_validMSE: {validMSE} - {new_validMSE} = {validMSE - new_validMSE}\")\n",
        "      break\n",
        "    validMSE = new_validMSE\n",
        "    # print(\"MSE after \" + str(iterations) + \" iterations = \" + str(newMSE))"
      ],
      "metadata": {
        "colab": {
          "base_uri": "https://localhost:8080/"
        },
        "id": "rG2DOat0Zxsl",
        "outputId": "a86b75fc-ef9e-40c2-9bc2-0f45bfaf046d"
      },
      "execution_count": 133,
      "outputs": [
        {
          "output_type": "stream",
          "name": "stdout",
          "text": [
            "validMSE: 3.096501336157259\n",
            "validMSE: 2.986833884688678\n",
            "validMSE: 2.9851903043698162\n",
            "validMSE: 2.9855709275170716\n",
            "validMSE - new_validMSE: 2.9851903043698162 - 2.9855709275170716 = -0.0003806231472553989\n"
          ]
        }
      ]
    },
    {
      "cell_type": "code",
      "source": [
        "print(f\"Valid MSE: {validMSE}\")"
      ],
      "metadata": {
        "colab": {
          "base_uri": "https://localhost:8080/"
        },
        "id": "5Dt4mKhca_YP",
        "outputId": "a0f08c03-d369-4ad9-95b0-051b50d6965e"
      },
      "execution_count": 135,
      "outputs": [
        {
          "output_type": "stream",
          "name": "stdout",
          "text": [
            "Valid MSE: 2.9851903043698162\n"
          ]
        }
      ]
    },
    {
      "cell_type": "markdown",
      "source": [
        "Early stopping is important to prevent over fitting"
      ],
      "metadata": {
        "id": "4Kj_PcXtbPxA"
      }
    },
    {
      "cell_type": "markdown",
      "source": [
        "### Question 7\n",
        "\n",
        "Report the user and game IDs that have the largest and smallest values of β."
      ],
      "metadata": {
        "id": "b6tfVDTeWfvf"
      }
    },
    {
      "cell_type": "code",
      "source": [
        "betaUs = [(betaU[u], u) for u in betaU]\n",
        "betaIs = [(betaI[i], i) for i in betaI]\n",
        "betaUs.sort()\n",
        "betaIs.sort()\n",
        "\n",
        "print(\"Maximum betaU = \" + str(betaUs[-1][1]) + ' (' + str(betaUs[-1][0]) + ')')\n",
        "print(\"Maximum betaI = \" + str(betaIs[-1][1]) + ' (' + str(betaIs[-1][0]) + ')')\n",
        "print(\"Minimum betaU = \" + str(betaUs[0][1]) + ' (' + str(betaUs[0][0]) + ')')\n",
        "print(\"Minimum betaI = \" + str(betaIs[0][1]) + ' (' + str(betaIs[0][0]) + ')')"
      ],
      "metadata": {
        "id": "WjpEaF-tWgTW",
        "colab": {
          "base_uri": "https://localhost:8080/"
        },
        "outputId": "3bd6d05f-a500-4768-8ad4-437d4e77f10a"
      },
      "execution_count": 48,
      "outputs": [
        {
          "output_type": "stream",
          "name": "stdout",
          "text": [
            "Maximum betaU = u60898505 (5.828316739259239)\n",
            "Maximum betaI = g17604638 (5.495973739724736)\n",
            "Minimum betaU = u13037838 (-3.0057870148761894)\n",
            "Minimum betaI = g84397720 (-2.809328679823356)\n"
          ]
        }
      ]
    },
    {
      "cell_type": "markdown",
      "source": [
        "### Question 8\n",
        "\n",
        "Find a better value of λ using your validation set. Report the value you chose, its MSE, and upload your\n",
        "solution to the Assignment 1 gradescope."
      ],
      "metadata": {
        "id": "9-lDkljoWmC-"
      }
    },
    {
      "cell_type": "code",
      "source": [
        "# Better lambda...\n",
        "iterations = 1\n",
        "while iterations < 10 or objective - newObjective > 0.01:\n",
        "    mse, objective = newMSE, newObjective\n",
        "    newMSE, newObjective = iterate(5) # Let lambda to be 5\n",
        "    iterations += 1\n",
        "    print(\"Objective after \" + str(iterations) + \" iterations = \" + str(newObjective))\n",
        "    print(\"MSE after \" + str(iterations) + \" iterations = \" + str(newMSE))"
      ],
      "metadata": {
        "id": "rdWz5aH-Wl2b",
        "colab": {
          "base_uri": "https://localhost:8080/"
        },
        "outputId": "10bf9150-4d30-4665-bf65-af60dfcef59f"
      },
      "execution_count": 49,
      "outputs": [
        {
          "output_type": "stream",
          "name": "stdout",
          "text": [
            "Objective after 2 iterations = 23723.40581939076\n",
            "MSE after 2 iterations = 2.7788624145856393\n",
            "Objective after 3 iterations = 23510.585432916247\n",
            "MSE after 3 iterations = 2.77950918417825\n",
            "Objective after 4 iterations = 23487.108448891875\n",
            "MSE after 4 iterations = 2.779632986564118\n",
            "Objective after 5 iterations = 23482.603926859705\n",
            "MSE after 5 iterations = 2.7796579991997605\n",
            "Objective after 6 iterations = 23481.074962137227\n",
            "MSE after 6 iterations = 2.7796657598050394\n",
            "Objective after 7 iterations = 23480.130273496496\n",
            "MSE after 7 iterations = 2.7796701526871908\n",
            "Objective after 8 iterations = 23479.338493177987\n",
            "MSE after 8 iterations = 2.7796737556337834\n",
            "Objective after 9 iterations = 23478.61426569989\n",
            "MSE after 9 iterations = 2.7796770737497773\n",
            "Objective after 10 iterations = 23477.938819973006\n",
            "MSE after 10 iterations = 2.7796802099553215\n",
            "Objective after 11 iterations = 23477.30667015269\n",
            "MSE after 11 iterations = 2.7796831871553858\n",
            "Objective after 12 iterations = 23476.715002575234\n",
            "MSE after 12 iterations = 2.7796860126194227\n",
            "Objective after 13 iterations = 23476.16153911946\n",
            "MSE after 13 iterations = 2.7796886909931113\n",
            "Objective after 14 iterations = 23475.64412291767\n",
            "MSE after 14 iterations = 2.7796912268421847\n",
            "Objective after 15 iterations = 23475.16065379043\n",
            "MSE after 15 iterations = 2.7796936250542577\n",
            "Objective after 16 iterations = 23474.709090840137\n",
            "MSE after 16 iterations = 2.7796958908157596\n",
            "Objective after 17 iterations = 23474.28746437589\n",
            "MSE after 17 iterations = 2.779698029519529\n",
            "Objective after 18 iterations = 23473.89388602729\n",
            "MSE after 18 iterations = 2.779700046673986\n",
            "Objective after 19 iterations = 23473.52655552462\n",
            "MSE after 19 iterations = 2.779701947827451\n",
            "Objective after 20 iterations = 23473.183764494268\n",
            "MSE after 20 iterations = 2.7797037385059995\n",
            "Objective after 21 iterations = 23472.863897891206\n",
            "MSE after 21 iterations = 2.7797054241651318\n",
            "Objective after 22 iterations = 23472.56543363089\n",
            "MSE after 22 iterations = 2.7797070101510615\n",
            "Objective after 23 iterations = 23472.28694088742\n",
            "MSE after 23 iterations = 2.779708501672005\n",
            "Objective after 24 iterations = 23472.027077431016\n",
            "MSE after 24 iterations = 2.779709903775975\n",
            "Objective after 25 iterations = 23471.784586296137\n",
            "MSE after 25 iterations = 2.779711221335141\n",
            "Objective after 26 iterations = 23471.558292009235\n",
            "MSE after 26 iterations = 2.7797124590347004\n",
            "Objective after 27 iterations = 23471.347096550493\n",
            "MSE after 27 iterations = 2.779713621366386\n",
            "Objective after 28 iterations = 23471.149975187873\n",
            "MSE after 28 iterations = 2.7797147126247004\n",
            "Objective after 29 iterations = 23470.965972280068\n",
            "MSE after 29 iterations = 2.779715736906046\n",
            "Objective after 30 iterations = 23470.794197126375\n",
            "MSE after 30 iterations = 2.7797166981101076\n",
            "Objective after 31 iterations = 23470.633819918305\n",
            "MSE after 31 iterations = 2.7797175999427637\n",
            "Objective after 32 iterations = 23470.48406782843\n",
            "MSE after 32 iterations = 2.779718445919436\n",
            "Objective after 33 iterations = 23470.344221265397\n",
            "MSE after 33 iterations = 2.7797192393715595\n",
            "Objective after 34 iterations = 23470.21361030992\n",
            "MSE after 34 iterations = 2.779719983451391\n",
            "Objective after 35 iterations = 23470.09161133967\n",
            "MSE after 35 iterations = 2.7797206811388713\n",
            "Objective after 36 iterations = 23469.977643848022\n",
            "MSE after 36 iterations = 2.779721335248263\n",
            "Objective after 37 iterations = 23469.87116745546\n",
            "MSE after 37 iterations = 2.779721948434876\n",
            "Objective after 38 iterations = 23469.77167910807\n",
            "MSE after 38 iterations = 2.779722523202685\n",
            "Objective after 39 iterations = 23469.678710460365\n",
            "MSE after 39 iterations = 2.7797230619107585\n",
            "Objective after 40 iterations = 23469.59182543196\n",
            "MSE after 40 iterations = 2.7797235667807447\n",
            "Objective after 41 iterations = 23469.510617931217\n",
            "MSE after 41 iterations = 2.779724039903443\n",
            "Objective after 42 iterations = 23469.434709737787\n",
            "MSE after 42 iterations = 2.779724483245663\n",
            "Objective after 43 iterations = 23469.363748532498\n",
            "MSE after 43 iterations = 2.779724898656832\n",
            "Objective after 44 iterations = 23469.297406068945\n",
            "MSE after 44 iterations = 2.7797252878753573\n",
            "Objective after 45 iterations = 23469.23537647397\n",
            "MSE after 45 iterations = 2.7797256525344936\n",
            "Objective after 46 iterations = 23469.17737467167\n",
            "MSE after 46 iterations = 2.779725994168456\n",
            "Objective after 47 iterations = 23469.12313492053\n",
            "MSE after 47 iterations = 2.7797263142178\n",
            "Objective after 48 iterations = 23469.072409456763\n",
            "MSE after 48 iterations = 2.7797266140350025\n",
            "Objective after 49 iterations = 23469.024967235713\n",
            "MSE after 49 iterations = 2.7797268948894795\n",
            "Objective after 50 iterations = 23468.98059276422\n",
            "MSE after 50 iterations = 2.7797271579723106\n",
            "Objective after 51 iterations = 23468.93908501895\n",
            "MSE after 51 iterations = 2.779727404400979\n",
            "Objective after 52 iterations = 23468.900256440287\n",
            "MSE after 52 iterations = 2.7797276352238685\n",
            "Objective after 53 iterations = 23468.863932002438\n",
            "MSE after 53 iterations = 2.7797278514239063\n",
            "Objective after 54 iterations = 23468.829948347\n",
            "MSE after 54 iterations = 2.779728053923274\n",
            "Objective after 55 iterations = 23468.79815298184\n",
            "MSE after 55 iterations = 2.779728243586385\n",
            "Objective after 56 iterations = 23468.768403535105\n",
            "MSE after 56 iterations = 2.7797284212235973\n",
            "Objective after 57 iterations = 23468.74056706396\n",
            "MSE after 57 iterations = 2.7797285875948345\n",
            "Objective after 58 iterations = 23468.714519412064\n",
            "MSE after 58 iterations = 2.779728743412086\n",
            "Objective after 59 iterations = 23468.69014461272\n",
            "MSE after 59 iterations = 2.7797288893428655\n",
            "Objective after 60 iterations = 23468.66733433392\n",
            "MSE after 60 iterations = 2.7797290260127636\n",
            "Objective after 61 iterations = 23468.645987362248\n",
            "MSE after 61 iterations = 2.7797291540079954\n",
            "Objective after 62 iterations = 23468.62600912509\n",
            "MSE after 62 iterations = 2.7797292738778396\n",
            "Objective after 63 iterations = 23468.60731124295\n",
            "MSE after 63 iterations = 2.7797293861370367\n",
            "Objective after 64 iterations = 23468.589811115202\n",
            "MSE after 64 iterations = 2.779729491267721\n",
            "Objective after 65 iterations = 23468.573431534234\n",
            "MSE after 65 iterations = 2.779729589721945\n",
            "Objective after 66 iterations = 23468.55810032585\n",
            "MSE after 66 iterations = 2.7797296819228747\n",
            "Objective after 67 iterations = 23468.54375001454\n",
            "MSE after 67 iterations = 2.779729768267079\n",
            "Objective after 68 iterations = 23468.53031751197\n",
            "MSE after 68 iterations = 2.7797298491260793\n",
            "Objective after 69 iterations = 23468.517743826334\n",
            "MSE after 69 iterations = 2.7797299248479392\n",
            "Objective after 70 iterations = 23468.50597379238\n",
            "MSE after 70 iterations = 2.779729995758566\n",
            "Objective after 71 iterations = 23468.494955818587\n",
            "MSE after 71 iterations = 2.7797300621633627\n",
            "Objective after 72 iterations = 23468.484641652325\n",
            "MSE after 72 iterations = 2.7797301243483794\n",
            "Objective after 73 iterations = 23468.474986160585\n",
            "MSE after 73 iterations = 2.77973018258143\n"
          ]
        }
      ]
    },
    {
      "cell_type": "code",
      "source": [
        "validMSE = 0\n",
        "for u,g,d in hoursValid:\n",
        "    r = d['hours_transformed']\n",
        "    bu = 0\n",
        "    bi = 0\n",
        "    if u in betaU:\n",
        "        bu = betaU[u]\n",
        "    if g in betaI:\n",
        "        bi = betaI[g]\n",
        "    prediction = alpha + bu + bi\n",
        "    validMSE += (r - prediction)**2\n",
        "\n",
        "validMSE /= len(hoursValid)\n",
        "print(\"Validation MSE = \" + str(validMSE))"
      ],
      "metadata": {
        "colab": {
          "base_uri": "https://localhost:8080/"
        },
        "id": "RK9bwR4LuIVQ",
        "outputId": "8917b605-98d2-4815-8887-77d2c5626f57"
      },
      "execution_count": 50,
      "outputs": [
        {
          "output_type": "stream",
          "name": "stdout",
          "text": [
            "Validation MSE = 3.3246506094357864\n"
          ]
        }
      ]
    }
  ]
}